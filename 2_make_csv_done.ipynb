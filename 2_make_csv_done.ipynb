{
  "nbformat": 4,
  "nbformat_minor": 0,
  "metadata": {
    "colab": {
      "provenance": [],
      "authorship_tag": "ABX9TyPNkxMMy1kyWFZywPH8tXm1",
      "include_colab_link": true
    },
    "kernelspec": {
      "name": "python3",
      "display_name": "Python 3"
    },
    "language_info": {
      "name": "python"
    }
  },
  "cells": [
    {
      "cell_type": "markdown",
      "metadata": {
        "id": "view-in-github",
        "colab_type": "text"
      },
      "source": [
        "<a href=\"https://colab.research.google.com/github/SonjaWangJQ/Keyboard-ML/blob/main/2_make_csv_done.ipynb\" target=\"_parent\"><img src=\"https://colab.research.google.com/assets/colab-badge.svg\" alt=\"Open In Colab\"/></a>"
      ]
    },
    {
      "cell_type": "markdown",
      "source": [
        "make csv for dataset"
      ],
      "metadata": {
        "id": "8cNcN-sh67oY"
      }
    },
    {
      "cell_type": "code",
      "source": [
        "from google.colab import drive\n",
        "drive.mount('/content/drive')"
      ],
      "metadata": {
        "colab": {
          "base_uri": "https://localhost:8080/"
        },
        "id": "FXd7xHk_qc-5",
        "outputId": "85abedea-9743-4bc5-b29d-89ab44b96ee0"
      },
      "execution_count": null,
      "outputs": [
        {
          "output_type": "stream",
          "name": "stdout",
          "text": [
            "Mounted at /content/drive\n"
          ]
        }
      ]
    },
    {
      "cell_type": "code",
      "source": [
        "import os, glob\n",
        "import csv"
      ],
      "metadata": {
        "id": "8XVJmUuEsVuy"
      },
      "execution_count": null,
      "outputs": []
    },
    {
      "cell_type": "code",
      "source": [
        "def class_name(read_folder):\n",
        "    class_to_num = {}\n",
        "    wav_dir = []\n",
        "    class_name_list = os.listdir(read_folder)\n",
        "    # print(class_name_list )\n",
        "    for class_name in class_name_list:\n",
        "        class_to_num[class_name] = len(class_to_num)\n",
        "    for class_name in class_name_list:\n",
        "        wav_dir += glob.glob(os.path.join(read_folder, class_name, \"*.wav\"))\n",
        "    return wav_dir, class_to_num"
      ],
      "metadata": {
        "id": "emFrRDjdWF1d"
      },
      "execution_count": null,
      "outputs": []
    },
    {
      "cell_type": "code",
      "source": [
        "def write(file_path, wav_dir, class_to_num, mode, newline=''):\n",
        "    with open(file_path, mode, newline=newline) as f:\n",
        "        writer = csv.writer(f)\n",
        "        # writer.writerow([\"wav_file\", \"label\"])\n",
        "        for wav in wav_dir:\n",
        "            class_name = wav.split(os.sep)[-2]\n",
        "            label = class_to_num[class_name]\n",
        "            writer.writerow([wav, label])\n",
        "            print(\"finish!\")\n"
      ],
      "metadata": {
        "id": "LwCutg-aWedK"
      },
      "execution_count": null,
      "outputs": []
    },
    {
      "cell_type": "code",
      "source": [
        "read_folder = \"/content/drive/MyDrive/collect_machinekeyboard/viglen_keyboard/41k/piece\""
      ],
      "metadata": {
        "id": "-xlG0QsMzHOm"
      },
      "execution_count": null,
      "outputs": []
    },
    {
      "cell_type": "code",
      "source": [
        "wcsv = \"/content/drive/MyDrive/collect_machinekeyboard/viglen_keyboard/41k/v_keyboard.csv\""
      ],
      "metadata": {
        "id": "tDV6BRYQy6VE"
      },
      "execution_count": null,
      "outputs": []
    },
    {
      "cell_type": "code",
      "source": [
        "wav_dir,class_to_num = class_name(read_folder)\n",
        "print(class_to_num)\n",
        "print(wav_dir )"
      ],
      "metadata": {
        "colab": {
          "base_uri": "https://localhost:8080/"
        },
        "id": "ql1e6gEpWJiN",
        "outputId": "716e96ab-f55b-485b-ffbb-3ad3f407464a"
      },
      "execution_count": null,
      "outputs": [
        {
          "output_type": "stream",
          "name": "stdout",
          "text": [
            "{'a': 0, 'b': 1, 'c': 2, 'd': 3, 'e': 4, 'f': 5, 'g': 6, 'h': 7, 'i': 8, 'j': 9, 'k': 10, 'l': 11, 'm': 12, 'n': 13, 'o': 14, 'p': 15, 'q': 16, 'r': 17, 's': 18, 't': 19, 'u': 20, 'v': 21, 'w': 22, 'x': 23, 'y': 24, 'z': 25, '0': 26, '1': 27, '2': 28, '3': 29, '4': 30, '5': 31, '6': 32, '7': 33, '8': 34, '9': 35}\n",
            "['/content/drive/MyDrive/collect_machinekeyboard/viglen_keyboard/41k/piece/a/1.wav', '/content/drive/MyDrive/collect_machinekeyboard/viglen_keyboard/41k/piece/a/2.wav', '/content/drive/MyDrive/collect_machinekeyboard/viglen_keyboard/41k/piece/a/3.wav', '/content/drive/MyDrive/collect_machinekeyboard/viglen_keyboard/41k/piece/a/4.wav', '/content/drive/MyDrive/collect_machinekeyboard/viglen_keyboard/41k/piece/a/5.wav', '/content/drive/MyDrive/collect_machinekeyboard/viglen_keyboard/41k/piece/a/6.wav', '/content/drive/MyDrive/collect_machinekeyboard/viglen_keyboard/41k/piece/a/7.wav', '/content/drive/MyDrive/collect_machinekeyboard/viglen_keyboard/41k/piece/a/8.wav', '/content/drive/MyDrive/collect_machinekeyboard/viglen_keyboard/41k/piece/a/9.wav', '/content/drive/MyDrive/collect_machinekeyboard/viglen_keyboard/41k/piece/a/10.wav', '/content/drive/MyDrive/collect_machinekeyboard/viglen_keyboard/41k/piece/a/11.wav', '/content/drive/MyDrive/collect_machinekeyboard/viglen_keyboard/41k/piece/a/12.wav', '/content/drive/MyDrive/collect_machinekeyboard/viglen_keyboard/41k/piece/a/13.wav', '/content/drive/MyDrive/collect_machinekeyboard/viglen_keyboard/41k/piece/a/14.wav', '/content/drive/MyDrive/collect_machinekeyboard/viglen_keyboard/41k/piece/a/15.wav', '/content/drive/MyDrive/collect_machinekeyboard/viglen_keyboard/41k/piece/a/16.wav', '/content/drive/MyDrive/collect_machinekeyboard/viglen_keyboard/41k/piece/a/17.wav', '/content/drive/MyDrive/collect_machinekeyboard/viglen_keyboard/41k/piece/a/18.wav', '/content/drive/MyDrive/collect_machinekeyboard/viglen_keyboard/41k/piece/b/1.wav', '/content/drive/MyDrive/collect_machinekeyboard/viglen_keyboard/41k/piece/b/2.wav', '/content/drive/MyDrive/collect_machinekeyboard/viglen_keyboard/41k/piece/b/3.wav', '/content/drive/MyDrive/collect_machinekeyboard/viglen_keyboard/41k/piece/b/4.wav', '/content/drive/MyDrive/collect_machinekeyboard/viglen_keyboard/41k/piece/b/5.wav', '/content/drive/MyDrive/collect_machinekeyboard/viglen_keyboard/41k/piece/b/6.wav', '/content/drive/MyDrive/collect_machinekeyboard/viglen_keyboard/41k/piece/b/7.wav', '/content/drive/MyDrive/collect_machinekeyboard/viglen_keyboard/41k/piece/b/8.wav', '/content/drive/MyDrive/collect_machinekeyboard/viglen_keyboard/41k/piece/b/9.wav', '/content/drive/MyDrive/collect_machinekeyboard/viglen_keyboard/41k/piece/b/10.wav', '/content/drive/MyDrive/collect_machinekeyboard/viglen_keyboard/41k/piece/b/11.wav', '/content/drive/MyDrive/collect_machinekeyboard/viglen_keyboard/41k/piece/b/12.wav', '/content/drive/MyDrive/collect_machinekeyboard/viglen_keyboard/41k/piece/b/13.wav', '/content/drive/MyDrive/collect_machinekeyboard/viglen_keyboard/41k/piece/b/14.wav', '/content/drive/MyDrive/collect_machinekeyboard/viglen_keyboard/41k/piece/b/15.wav', '/content/drive/MyDrive/collect_machinekeyboard/viglen_keyboard/41k/piece/b/16.wav', '/content/drive/MyDrive/collect_machinekeyboard/viglen_keyboard/41k/piece/b/17.wav', '/content/drive/MyDrive/collect_machinekeyboard/viglen_keyboard/41k/piece/b/18.wav', '/content/drive/MyDrive/collect_machinekeyboard/viglen_keyboard/41k/piece/b/19.wav', '/content/drive/MyDrive/collect_machinekeyboard/viglen_keyboard/41k/piece/c/1.wav', '/content/drive/MyDrive/collect_machinekeyboard/viglen_keyboard/41k/piece/c/2.wav', '/content/drive/MyDrive/collect_machinekeyboard/viglen_keyboard/41k/piece/c/3.wav', '/content/drive/MyDrive/collect_machinekeyboard/viglen_keyboard/41k/piece/c/4.wav', '/content/drive/MyDrive/collect_machinekeyboard/viglen_keyboard/41k/piece/c/5.wav', '/content/drive/MyDrive/collect_machinekeyboard/viglen_keyboard/41k/piece/c/6.wav', '/content/drive/MyDrive/collect_machinekeyboard/viglen_keyboard/41k/piece/c/7.wav', '/content/drive/MyDrive/collect_machinekeyboard/viglen_keyboard/41k/piece/c/8.wav', '/content/drive/MyDrive/collect_machinekeyboard/viglen_keyboard/41k/piece/c/9.wav', '/content/drive/MyDrive/collect_machinekeyboard/viglen_keyboard/41k/piece/c/10.wav', '/content/drive/MyDrive/collect_machinekeyboard/viglen_keyboard/41k/piece/c/11.wav', '/content/drive/MyDrive/collect_machinekeyboard/viglen_keyboard/41k/piece/c/12.wav', '/content/drive/MyDrive/collect_machinekeyboard/viglen_keyboard/41k/piece/c/13.wav', '/content/drive/MyDrive/collect_machinekeyboard/viglen_keyboard/41k/piece/c/14.wav', '/content/drive/MyDrive/collect_machinekeyboard/viglen_keyboard/41k/piece/c/15.wav', '/content/drive/MyDrive/collect_machinekeyboard/viglen_keyboard/41k/piece/c/16.wav', '/content/drive/MyDrive/collect_machinekeyboard/viglen_keyboard/41k/piece/c/17.wav', '/content/drive/MyDrive/collect_machinekeyboard/viglen_keyboard/41k/piece/c/18.wav', '/content/drive/MyDrive/collect_machinekeyboard/viglen_keyboard/41k/piece/c/19.wav', '/content/drive/MyDrive/collect_machinekeyboard/viglen_keyboard/41k/piece/d/1.wav', '/content/drive/MyDrive/collect_machinekeyboard/viglen_keyboard/41k/piece/d/2.wav', '/content/drive/MyDrive/collect_machinekeyboard/viglen_keyboard/41k/piece/d/3.wav', '/content/drive/MyDrive/collect_machinekeyboard/viglen_keyboard/41k/piece/d/4.wav', '/content/drive/MyDrive/collect_machinekeyboard/viglen_keyboard/41k/piece/d/5.wav', '/content/drive/MyDrive/collect_machinekeyboard/viglen_keyboard/41k/piece/d/6.wav', '/content/drive/MyDrive/collect_machinekeyboard/viglen_keyboard/41k/piece/d/7.wav', '/content/drive/MyDrive/collect_machinekeyboard/viglen_keyboard/41k/piece/d/8.wav', '/content/drive/MyDrive/collect_machinekeyboard/viglen_keyboard/41k/piece/d/9.wav', '/content/drive/MyDrive/collect_machinekeyboard/viglen_keyboard/41k/piece/d/10.wav', '/content/drive/MyDrive/collect_machinekeyboard/viglen_keyboard/41k/piece/d/11.wav', '/content/drive/MyDrive/collect_machinekeyboard/viglen_keyboard/41k/piece/d/12.wav', '/content/drive/MyDrive/collect_machinekeyboard/viglen_keyboard/41k/piece/d/13.wav', '/content/drive/MyDrive/collect_machinekeyboard/viglen_keyboard/41k/piece/d/14.wav', '/content/drive/MyDrive/collect_machinekeyboard/viglen_keyboard/41k/piece/d/15.wav', '/content/drive/MyDrive/collect_machinekeyboard/viglen_keyboard/41k/piece/d/16.wav', '/content/drive/MyDrive/collect_machinekeyboard/viglen_keyboard/41k/piece/d/17.wav', '/content/drive/MyDrive/collect_machinekeyboard/viglen_keyboard/41k/piece/d/18.wav', '/content/drive/MyDrive/collect_machinekeyboard/viglen_keyboard/41k/piece/d/19.wav', '/content/drive/MyDrive/collect_machinekeyboard/viglen_keyboard/41k/piece/e/1.wav', '/content/drive/MyDrive/collect_machinekeyboard/viglen_keyboard/41k/piece/e/2.wav', '/content/drive/MyDrive/collect_machinekeyboard/viglen_keyboard/41k/piece/e/3.wav', '/content/drive/MyDrive/collect_machinekeyboard/viglen_keyboard/41k/piece/e/4.wav', '/content/drive/MyDrive/collect_machinekeyboard/viglen_keyboard/41k/piece/e/5.wav', '/content/drive/MyDrive/collect_machinekeyboard/viglen_keyboard/41k/piece/e/6.wav', '/content/drive/MyDrive/collect_machinekeyboard/viglen_keyboard/41k/piece/e/7.wav', '/content/drive/MyDrive/collect_machinekeyboard/viglen_keyboard/41k/piece/e/8.wav', '/content/drive/MyDrive/collect_machinekeyboard/viglen_keyboard/41k/piece/e/9.wav', '/content/drive/MyDrive/collect_machinekeyboard/viglen_keyboard/41k/piece/e/10.wav', '/content/drive/MyDrive/collect_machinekeyboard/viglen_keyboard/41k/piece/e/11.wav', '/content/drive/MyDrive/collect_machinekeyboard/viglen_keyboard/41k/piece/e/12.wav', '/content/drive/MyDrive/collect_machinekeyboard/viglen_keyboard/41k/piece/e/13.wav', '/content/drive/MyDrive/collect_machinekeyboard/viglen_keyboard/41k/piece/e/14.wav', '/content/drive/MyDrive/collect_machinekeyboard/viglen_keyboard/41k/piece/e/15.wav', '/content/drive/MyDrive/collect_machinekeyboard/viglen_keyboard/41k/piece/e/16.wav', '/content/drive/MyDrive/collect_machinekeyboard/viglen_keyboard/41k/piece/e/17.wav', '/content/drive/MyDrive/collect_machinekeyboard/viglen_keyboard/41k/piece/f/1.wav', '/content/drive/MyDrive/collect_machinekeyboard/viglen_keyboard/41k/piece/f/2.wav', '/content/drive/MyDrive/collect_machinekeyboard/viglen_keyboard/41k/piece/f/3.wav', '/content/drive/MyDrive/collect_machinekeyboard/viglen_keyboard/41k/piece/f/4.wav', '/content/drive/MyDrive/collect_machinekeyboard/viglen_keyboard/41k/piece/f/5.wav', '/content/drive/MyDrive/collect_machinekeyboard/viglen_keyboard/41k/piece/f/6.wav', '/content/drive/MyDrive/collect_machinekeyboard/viglen_keyboard/41k/piece/f/7.wav', '/content/drive/MyDrive/collect_machinekeyboard/viglen_keyboard/41k/piece/f/8.wav', '/content/drive/MyDrive/collect_machinekeyboard/viglen_keyboard/41k/piece/f/9.wav', '/content/drive/MyDrive/collect_machinekeyboard/viglen_keyboard/41k/piece/f/10.wav', '/content/drive/MyDrive/collect_machinekeyboard/viglen_keyboard/41k/piece/f/11.wav', '/content/drive/MyDrive/collect_machinekeyboard/viglen_keyboard/41k/piece/f/12.wav', '/content/drive/MyDrive/collect_machinekeyboard/viglen_keyboard/41k/piece/f/13.wav', '/content/drive/MyDrive/collect_machinekeyboard/viglen_keyboard/41k/piece/f/14.wav', '/content/drive/MyDrive/collect_machinekeyboard/viglen_keyboard/41k/piece/f/15.wav', '/content/drive/MyDrive/collect_machinekeyboard/viglen_keyboard/41k/piece/f/16.wav', '/content/drive/MyDrive/collect_machinekeyboard/viglen_keyboard/41k/piece/f/17.wav', '/content/drive/MyDrive/collect_machinekeyboard/viglen_keyboard/41k/piece/g/1.wav', '/content/drive/MyDrive/collect_machinekeyboard/viglen_keyboard/41k/piece/g/2.wav', '/content/drive/MyDrive/collect_machinekeyboard/viglen_keyboard/41k/piece/g/3.wav', '/content/drive/MyDrive/collect_machinekeyboard/viglen_keyboard/41k/piece/g/4.wav', '/content/drive/MyDrive/collect_machinekeyboard/viglen_keyboard/41k/piece/g/5.wav', '/content/drive/MyDrive/collect_machinekeyboard/viglen_keyboard/41k/piece/g/6.wav', '/content/drive/MyDrive/collect_machinekeyboard/viglen_keyboard/41k/piece/g/7.wav', '/content/drive/MyDrive/collect_machinekeyboard/viglen_keyboard/41k/piece/g/8.wav', '/content/drive/MyDrive/collect_machinekeyboard/viglen_keyboard/41k/piece/g/9.wav', '/content/drive/MyDrive/collect_machinekeyboard/viglen_keyboard/41k/piece/g/10.wav', '/content/drive/MyDrive/collect_machinekeyboard/viglen_keyboard/41k/piece/g/11.wav', '/content/drive/MyDrive/collect_machinekeyboard/viglen_keyboard/41k/piece/g/12.wav', '/content/drive/MyDrive/collect_machinekeyboard/viglen_keyboard/41k/piece/g/13.wav', '/content/drive/MyDrive/collect_machinekeyboard/viglen_keyboard/41k/piece/g/14.wav', '/content/drive/MyDrive/collect_machinekeyboard/viglen_keyboard/41k/piece/g/15.wav', '/content/drive/MyDrive/collect_machinekeyboard/viglen_keyboard/41k/piece/g/16.wav', '/content/drive/MyDrive/collect_machinekeyboard/viglen_keyboard/41k/piece/g/17.wav', '/content/drive/MyDrive/collect_machinekeyboard/viglen_keyboard/41k/piece/g/18.wav', '/content/drive/MyDrive/collect_machinekeyboard/viglen_keyboard/41k/piece/h/1.wav', '/content/drive/MyDrive/collect_machinekeyboard/viglen_keyboard/41k/piece/h/2.wav', '/content/drive/MyDrive/collect_machinekeyboard/viglen_keyboard/41k/piece/h/3.wav', '/content/drive/MyDrive/collect_machinekeyboard/viglen_keyboard/41k/piece/h/4.wav', '/content/drive/MyDrive/collect_machinekeyboard/viglen_keyboard/41k/piece/h/5.wav', '/content/drive/MyDrive/collect_machinekeyboard/viglen_keyboard/41k/piece/h/6.wav', '/content/drive/MyDrive/collect_machinekeyboard/viglen_keyboard/41k/piece/h/7.wav', '/content/drive/MyDrive/collect_machinekeyboard/viglen_keyboard/41k/piece/h/8.wav', '/content/drive/MyDrive/collect_machinekeyboard/viglen_keyboard/41k/piece/h/9.wav', '/content/drive/MyDrive/collect_machinekeyboard/viglen_keyboard/41k/piece/h/10.wav', '/content/drive/MyDrive/collect_machinekeyboard/viglen_keyboard/41k/piece/h/11.wav', '/content/drive/MyDrive/collect_machinekeyboard/viglen_keyboard/41k/piece/h/12.wav', '/content/drive/MyDrive/collect_machinekeyboard/viglen_keyboard/41k/piece/h/13.wav', '/content/drive/MyDrive/collect_machinekeyboard/viglen_keyboard/41k/piece/h/14.wav', '/content/drive/MyDrive/collect_machinekeyboard/viglen_keyboard/41k/piece/h/15.wav', '/content/drive/MyDrive/collect_machinekeyboard/viglen_keyboard/41k/piece/h/16.wav', '/content/drive/MyDrive/collect_machinekeyboard/viglen_keyboard/41k/piece/h/17.wav', '/content/drive/MyDrive/collect_machinekeyboard/viglen_keyboard/41k/piece/i/1.wav', '/content/drive/MyDrive/collect_machinekeyboard/viglen_keyboard/41k/piece/i/2.wav', '/content/drive/MyDrive/collect_machinekeyboard/viglen_keyboard/41k/piece/i/3.wav', '/content/drive/MyDrive/collect_machinekeyboard/viglen_keyboard/41k/piece/i/4.wav', '/content/drive/MyDrive/collect_machinekeyboard/viglen_keyboard/41k/piece/i/5.wav', '/content/drive/MyDrive/collect_machinekeyboard/viglen_keyboard/41k/piece/i/6.wav', '/content/drive/MyDrive/collect_machinekeyboard/viglen_keyboard/41k/piece/i/7.wav', '/content/drive/MyDrive/collect_machinekeyboard/viglen_keyboard/41k/piece/i/8.wav', '/content/drive/MyDrive/collect_machinekeyboard/viglen_keyboard/41k/piece/i/9.wav', '/content/drive/MyDrive/collect_machinekeyboard/viglen_keyboard/41k/piece/i/10.wav', '/content/drive/MyDrive/collect_machinekeyboard/viglen_keyboard/41k/piece/i/11.wav', '/content/drive/MyDrive/collect_machinekeyboard/viglen_keyboard/41k/piece/i/12.wav', '/content/drive/MyDrive/collect_machinekeyboard/viglen_keyboard/41k/piece/i/13.wav', '/content/drive/MyDrive/collect_machinekeyboard/viglen_keyboard/41k/piece/i/14.wav', '/content/drive/MyDrive/collect_machinekeyboard/viglen_keyboard/41k/piece/i/15.wav', '/content/drive/MyDrive/collect_machinekeyboard/viglen_keyboard/41k/piece/j/1.wav', '/content/drive/MyDrive/collect_machinekeyboard/viglen_keyboard/41k/piece/j/2.wav', '/content/drive/MyDrive/collect_machinekeyboard/viglen_keyboard/41k/piece/j/3.wav', '/content/drive/MyDrive/collect_machinekeyboard/viglen_keyboard/41k/piece/j/4.wav', '/content/drive/MyDrive/collect_machinekeyboard/viglen_keyboard/41k/piece/j/5.wav', '/content/drive/MyDrive/collect_machinekeyboard/viglen_keyboard/41k/piece/j/6.wav', '/content/drive/MyDrive/collect_machinekeyboard/viglen_keyboard/41k/piece/j/7.wav', '/content/drive/MyDrive/collect_machinekeyboard/viglen_keyboard/41k/piece/j/8.wav', '/content/drive/MyDrive/collect_machinekeyboard/viglen_keyboard/41k/piece/j/9.wav', '/content/drive/MyDrive/collect_machinekeyboard/viglen_keyboard/41k/piece/j/10.wav', '/content/drive/MyDrive/collect_machinekeyboard/viglen_keyboard/41k/piece/j/11.wav', '/content/drive/MyDrive/collect_machinekeyboard/viglen_keyboard/41k/piece/j/12.wav', '/content/drive/MyDrive/collect_machinekeyboard/viglen_keyboard/41k/piece/j/13.wav', '/content/drive/MyDrive/collect_machinekeyboard/viglen_keyboard/41k/piece/j/14.wav', '/content/drive/MyDrive/collect_machinekeyboard/viglen_keyboard/41k/piece/j/15.wav', '/content/drive/MyDrive/collect_machinekeyboard/viglen_keyboard/41k/piece/j/16.wav', '/content/drive/MyDrive/collect_machinekeyboard/viglen_keyboard/41k/piece/j/17.wav', '/content/drive/MyDrive/collect_machinekeyboard/viglen_keyboard/41k/piece/j/18.wav', '/content/drive/MyDrive/collect_machinekeyboard/viglen_keyboard/41k/piece/j/19.wav', '/content/drive/MyDrive/collect_machinekeyboard/viglen_keyboard/41k/piece/k/1.wav', '/content/drive/MyDrive/collect_machinekeyboard/viglen_keyboard/41k/piece/k/2.wav', '/content/drive/MyDrive/collect_machinekeyboard/viglen_keyboard/41k/piece/k/3.wav', '/content/drive/MyDrive/collect_machinekeyboard/viglen_keyboard/41k/piece/k/4.wav', '/content/drive/MyDrive/collect_machinekeyboard/viglen_keyboard/41k/piece/k/5.wav', '/content/drive/MyDrive/collect_machinekeyboard/viglen_keyboard/41k/piece/k/6.wav', '/content/drive/MyDrive/collect_machinekeyboard/viglen_keyboard/41k/piece/k/7.wav', '/content/drive/MyDrive/collect_machinekeyboard/viglen_keyboard/41k/piece/k/8.wav', '/content/drive/MyDrive/collect_machinekeyboard/viglen_keyboard/41k/piece/k/9.wav', '/content/drive/MyDrive/collect_machinekeyboard/viglen_keyboard/41k/piece/k/10.wav', '/content/drive/MyDrive/collect_machinekeyboard/viglen_keyboard/41k/piece/k/11.wav', '/content/drive/MyDrive/collect_machinekeyboard/viglen_keyboard/41k/piece/k/12.wav', '/content/drive/MyDrive/collect_machinekeyboard/viglen_keyboard/41k/piece/k/13.wav', '/content/drive/MyDrive/collect_machinekeyboard/viglen_keyboard/41k/piece/k/14.wav', '/content/drive/MyDrive/collect_machinekeyboard/viglen_keyboard/41k/piece/k/15.wav', '/content/drive/MyDrive/collect_machinekeyboard/viglen_keyboard/41k/piece/k/16.wav', '/content/drive/MyDrive/collect_machinekeyboard/viglen_keyboard/41k/piece/k/17.wav', '/content/drive/MyDrive/collect_machinekeyboard/viglen_keyboard/41k/piece/k/18.wav', '/content/drive/MyDrive/collect_machinekeyboard/viglen_keyboard/41k/piece/k/19.wav', '/content/drive/MyDrive/collect_machinekeyboard/viglen_keyboard/41k/piece/l/1.wav', '/content/drive/MyDrive/collect_machinekeyboard/viglen_keyboard/41k/piece/l/2.wav', '/content/drive/MyDrive/collect_machinekeyboard/viglen_keyboard/41k/piece/l/3.wav', '/content/drive/MyDrive/collect_machinekeyboard/viglen_keyboard/41k/piece/l/4.wav', '/content/drive/MyDrive/collect_machinekeyboard/viglen_keyboard/41k/piece/l/5.wav', '/content/drive/MyDrive/collect_machinekeyboard/viglen_keyboard/41k/piece/l/6.wav', '/content/drive/MyDrive/collect_machinekeyboard/viglen_keyboard/41k/piece/l/7.wav', '/content/drive/MyDrive/collect_machinekeyboard/viglen_keyboard/41k/piece/l/8.wav', '/content/drive/MyDrive/collect_machinekeyboard/viglen_keyboard/41k/piece/l/9.wav', '/content/drive/MyDrive/collect_machinekeyboard/viglen_keyboard/41k/piece/l/10.wav', '/content/drive/MyDrive/collect_machinekeyboard/viglen_keyboard/41k/piece/l/11.wav', '/content/drive/MyDrive/collect_machinekeyboard/viglen_keyboard/41k/piece/l/12.wav', '/content/drive/MyDrive/collect_machinekeyboard/viglen_keyboard/41k/piece/l/13.wav', '/content/drive/MyDrive/collect_machinekeyboard/viglen_keyboard/41k/piece/l/14.wav', '/content/drive/MyDrive/collect_machinekeyboard/viglen_keyboard/41k/piece/l/15.wav', '/content/drive/MyDrive/collect_machinekeyboard/viglen_keyboard/41k/piece/l/16.wav', '/content/drive/MyDrive/collect_machinekeyboard/viglen_keyboard/41k/piece/l/17.wav', '/content/drive/MyDrive/collect_machinekeyboard/viglen_keyboard/41k/piece/l/18.wav', '/content/drive/MyDrive/collect_machinekeyboard/viglen_keyboard/41k/piece/m/1.wav', '/content/drive/MyDrive/collect_machinekeyboard/viglen_keyboard/41k/piece/m/2.wav', '/content/drive/MyDrive/collect_machinekeyboard/viglen_keyboard/41k/piece/m/3.wav', '/content/drive/MyDrive/collect_machinekeyboard/viglen_keyboard/41k/piece/m/4.wav', '/content/drive/MyDrive/collect_machinekeyboard/viglen_keyboard/41k/piece/m/5.wav', '/content/drive/MyDrive/collect_machinekeyboard/viglen_keyboard/41k/piece/m/6.wav', '/content/drive/MyDrive/collect_machinekeyboard/viglen_keyboard/41k/piece/m/7.wav', '/content/drive/MyDrive/collect_machinekeyboard/viglen_keyboard/41k/piece/m/8.wav', '/content/drive/MyDrive/collect_machinekeyboard/viglen_keyboard/41k/piece/m/9.wav', '/content/drive/MyDrive/collect_machinekeyboard/viglen_keyboard/41k/piece/n/1.wav', '/content/drive/MyDrive/collect_machinekeyboard/viglen_keyboard/41k/piece/n/2.wav', '/content/drive/MyDrive/collect_machinekeyboard/viglen_keyboard/41k/piece/n/3.wav', '/content/drive/MyDrive/collect_machinekeyboard/viglen_keyboard/41k/piece/n/4.wav', '/content/drive/MyDrive/collect_machinekeyboard/viglen_keyboard/41k/piece/n/5.wav', '/content/drive/MyDrive/collect_machinekeyboard/viglen_keyboard/41k/piece/n/6.wav', '/content/drive/MyDrive/collect_machinekeyboard/viglen_keyboard/41k/piece/n/7.wav', '/content/drive/MyDrive/collect_machinekeyboard/viglen_keyboard/41k/piece/n/8.wav', '/content/drive/MyDrive/collect_machinekeyboard/viglen_keyboard/41k/piece/n/9.wav', '/content/drive/MyDrive/collect_machinekeyboard/viglen_keyboard/41k/piece/n/10.wav', '/content/drive/MyDrive/collect_machinekeyboard/viglen_keyboard/41k/piece/n/11.wav', '/content/drive/MyDrive/collect_machinekeyboard/viglen_keyboard/41k/piece/n/12.wav', '/content/drive/MyDrive/collect_machinekeyboard/viglen_keyboard/41k/piece/n/13.wav', '/content/drive/MyDrive/collect_machinekeyboard/viglen_keyboard/41k/piece/n/14.wav', '/content/drive/MyDrive/collect_machinekeyboard/viglen_keyboard/41k/piece/n/15.wav', '/content/drive/MyDrive/collect_machinekeyboard/viglen_keyboard/41k/piece/n/16.wav', '/content/drive/MyDrive/collect_machinekeyboard/viglen_keyboard/41k/piece/o/1.wav', '/content/drive/MyDrive/collect_machinekeyboard/viglen_keyboard/41k/piece/o/2.wav', '/content/drive/MyDrive/collect_machinekeyboard/viglen_keyboard/41k/piece/o/3.wav', '/content/drive/MyDrive/collect_machinekeyboard/viglen_keyboard/41k/piece/o/4.wav', '/content/drive/MyDrive/collect_machinekeyboard/viglen_keyboard/41k/piece/o/5.wav', '/content/drive/MyDrive/collect_machinekeyboard/viglen_keyboard/41k/piece/o/6.wav', '/content/drive/MyDrive/collect_machinekeyboard/viglen_keyboard/41k/piece/o/7.wav', '/content/drive/MyDrive/collect_machinekeyboard/viglen_keyboard/41k/piece/o/8.wav', '/content/drive/MyDrive/collect_machinekeyboard/viglen_keyboard/41k/piece/o/9.wav', '/content/drive/MyDrive/collect_machinekeyboard/viglen_keyboard/41k/piece/o/10.wav', '/content/drive/MyDrive/collect_machinekeyboard/viglen_keyboard/41k/piece/o/11.wav', '/content/drive/MyDrive/collect_machinekeyboard/viglen_keyboard/41k/piece/o/12.wav', '/content/drive/MyDrive/collect_machinekeyboard/viglen_keyboard/41k/piece/o/13.wav', '/content/drive/MyDrive/collect_machinekeyboard/viglen_keyboard/41k/piece/o/14.wav', '/content/drive/MyDrive/collect_machinekeyboard/viglen_keyboard/41k/piece/p/1.wav', '/content/drive/MyDrive/collect_machinekeyboard/viglen_keyboard/41k/piece/p/2.wav', '/content/drive/MyDrive/collect_machinekeyboard/viglen_keyboard/41k/piece/p/3.wav', '/content/drive/MyDrive/collect_machinekeyboard/viglen_keyboard/41k/piece/p/4.wav', '/content/drive/MyDrive/collect_machinekeyboard/viglen_keyboard/41k/piece/p/5.wav', '/content/drive/MyDrive/collect_machinekeyboard/viglen_keyboard/41k/piece/p/6.wav', '/content/drive/MyDrive/collect_machinekeyboard/viglen_keyboard/41k/piece/p/7.wav', '/content/drive/MyDrive/collect_machinekeyboard/viglen_keyboard/41k/piece/p/8.wav', '/content/drive/MyDrive/collect_machinekeyboard/viglen_keyboard/41k/piece/p/9.wav', '/content/drive/MyDrive/collect_machinekeyboard/viglen_keyboard/41k/piece/p/10.wav', '/content/drive/MyDrive/collect_machinekeyboard/viglen_keyboard/41k/piece/p/11.wav', '/content/drive/MyDrive/collect_machinekeyboard/viglen_keyboard/41k/piece/p/12.wav', '/content/drive/MyDrive/collect_machinekeyboard/viglen_keyboard/41k/piece/p/13.wav', '/content/drive/MyDrive/collect_machinekeyboard/viglen_keyboard/41k/piece/p/14.wav', '/content/drive/MyDrive/collect_machinekeyboard/viglen_keyboard/41k/piece/p/15.wav', '/content/drive/MyDrive/collect_machinekeyboard/viglen_keyboard/41k/piece/p/16.wav', '/content/drive/MyDrive/collect_machinekeyboard/viglen_keyboard/41k/piece/p/17.wav', '/content/drive/MyDrive/collect_machinekeyboard/viglen_keyboard/41k/piece/q/1.wav', '/content/drive/MyDrive/collect_machinekeyboard/viglen_keyboard/41k/piece/q/2.wav', '/content/drive/MyDrive/collect_machinekeyboard/viglen_keyboard/41k/piece/q/3.wav', '/content/drive/MyDrive/collect_machinekeyboard/viglen_keyboard/41k/piece/q/4.wav', '/content/drive/MyDrive/collect_machinekeyboard/viglen_keyboard/41k/piece/q/5.wav', '/content/drive/MyDrive/collect_machinekeyboard/viglen_keyboard/41k/piece/r/1.wav', '/content/drive/MyDrive/collect_machinekeyboard/viglen_keyboard/41k/piece/r/2.wav', '/content/drive/MyDrive/collect_machinekeyboard/viglen_keyboard/41k/piece/r/3.wav', '/content/drive/MyDrive/collect_machinekeyboard/viglen_keyboard/41k/piece/r/4.wav', '/content/drive/MyDrive/collect_machinekeyboard/viglen_keyboard/41k/piece/r/5.wav', '/content/drive/MyDrive/collect_machinekeyboard/viglen_keyboard/41k/piece/s/1.wav', '/content/drive/MyDrive/collect_machinekeyboard/viglen_keyboard/41k/piece/s/2.wav', '/content/drive/MyDrive/collect_machinekeyboard/viglen_keyboard/41k/piece/s/3.wav', '/content/drive/MyDrive/collect_machinekeyboard/viglen_keyboard/41k/piece/s/4.wav', '/content/drive/MyDrive/collect_machinekeyboard/viglen_keyboard/41k/piece/s/5.wav', '/content/drive/MyDrive/collect_machinekeyboard/viglen_keyboard/41k/piece/s/6.wav', '/content/drive/MyDrive/collect_machinekeyboard/viglen_keyboard/41k/piece/t/1.wav', '/content/drive/MyDrive/collect_machinekeyboard/viglen_keyboard/41k/piece/u/1.wav', '/content/drive/MyDrive/collect_machinekeyboard/viglen_keyboard/41k/piece/u/2.wav', '/content/drive/MyDrive/collect_machinekeyboard/viglen_keyboard/41k/piece/u/3.wav', '/content/drive/MyDrive/collect_machinekeyboard/viglen_keyboard/41k/piece/u/4.wav', '/content/drive/MyDrive/collect_machinekeyboard/viglen_keyboard/41k/piece/v/1.wav', '/content/drive/MyDrive/collect_machinekeyboard/viglen_keyboard/41k/piece/v/2.wav', '/content/drive/MyDrive/collect_machinekeyboard/viglen_keyboard/41k/piece/v/3.wav', '/content/drive/MyDrive/collect_machinekeyboard/viglen_keyboard/41k/piece/w/1.wav', '/content/drive/MyDrive/collect_machinekeyboard/viglen_keyboard/41k/piece/x/1.wav', '/content/drive/MyDrive/collect_machinekeyboard/viglen_keyboard/41k/piece/x/2.wav', '/content/drive/MyDrive/collect_machinekeyboard/viglen_keyboard/41k/piece/x/3.wav', '/content/drive/MyDrive/collect_machinekeyboard/viglen_keyboard/41k/piece/x/4.wav', '/content/drive/MyDrive/collect_machinekeyboard/viglen_keyboard/41k/piece/x/5.wav', '/content/drive/MyDrive/collect_machinekeyboard/viglen_keyboard/41k/piece/x/6.wav', '/content/drive/MyDrive/collect_machinekeyboard/viglen_keyboard/41k/piece/x/7.wav', '/content/drive/MyDrive/collect_machinekeyboard/viglen_keyboard/41k/piece/y/1.wav', '/content/drive/MyDrive/collect_machinekeyboard/viglen_keyboard/41k/piece/y/2.wav', '/content/drive/MyDrive/collect_machinekeyboard/viglen_keyboard/41k/piece/y/3.wav', '/content/drive/MyDrive/collect_machinekeyboard/viglen_keyboard/41k/piece/y/4.wav', '/content/drive/MyDrive/collect_machinekeyboard/viglen_keyboard/41k/piece/y/5.wav', '/content/drive/MyDrive/collect_machinekeyboard/viglen_keyboard/41k/piece/y/6.wav', '/content/drive/MyDrive/collect_machinekeyboard/viglen_keyboard/41k/piece/y/7.wav', '/content/drive/MyDrive/collect_machinekeyboard/viglen_keyboard/41k/piece/y/8.wav', '/content/drive/MyDrive/collect_machinekeyboard/viglen_keyboard/41k/piece/y/9.wav', '/content/drive/MyDrive/collect_machinekeyboard/viglen_keyboard/41k/piece/y/10.wav', '/content/drive/MyDrive/collect_machinekeyboard/viglen_keyboard/41k/piece/y/11.wav', '/content/drive/MyDrive/collect_machinekeyboard/viglen_keyboard/41k/piece/y/12.wav', '/content/drive/MyDrive/collect_machinekeyboard/viglen_keyboard/41k/piece/z/1.wav', '/content/drive/MyDrive/collect_machinekeyboard/viglen_keyboard/41k/piece/z/2.wav', '/content/drive/MyDrive/collect_machinekeyboard/viglen_keyboard/41k/piece/z/3.wav', '/content/drive/MyDrive/collect_machinekeyboard/viglen_keyboard/41k/piece/z/4.wav', '/content/drive/MyDrive/collect_machinekeyboard/viglen_keyboard/41k/piece/z/5.wav', '/content/drive/MyDrive/collect_machinekeyboard/viglen_keyboard/41k/piece/z/6.wav', '/content/drive/MyDrive/collect_machinekeyboard/viglen_keyboard/41k/piece/z/7.wav', '/content/drive/MyDrive/collect_machinekeyboard/viglen_keyboard/41k/piece/z/8.wav', '/content/drive/MyDrive/collect_machinekeyboard/viglen_keyboard/41k/piece/z/9.wav', '/content/drive/MyDrive/collect_machinekeyboard/viglen_keyboard/41k/piece/0/2.wav', '/content/drive/MyDrive/collect_machinekeyboard/viglen_keyboard/41k/piece/0/1.wav', '/content/drive/MyDrive/collect_machinekeyboard/viglen_keyboard/41k/piece/0/3.wav', '/content/drive/MyDrive/collect_machinekeyboard/viglen_keyboard/41k/piece/0/7.wav', '/content/drive/MyDrive/collect_machinekeyboard/viglen_keyboard/41k/piece/0/6.wav', '/content/drive/MyDrive/collect_machinekeyboard/viglen_keyboard/41k/piece/0/4.wav', '/content/drive/MyDrive/collect_machinekeyboard/viglen_keyboard/41k/piece/0/8.wav', '/content/drive/MyDrive/collect_machinekeyboard/viglen_keyboard/41k/piece/0/9.wav', '/content/drive/MyDrive/collect_machinekeyboard/viglen_keyboard/41k/piece/0/10.wav', '/content/drive/MyDrive/collect_machinekeyboard/viglen_keyboard/41k/piece/0/5.wav', '/content/drive/MyDrive/collect_machinekeyboard/viglen_keyboard/41k/piece/0/11.wav', '/content/drive/MyDrive/collect_machinekeyboard/viglen_keyboard/41k/piece/0/12.wav', '/content/drive/MyDrive/collect_machinekeyboard/viglen_keyboard/41k/piece/0/13.wav', '/content/drive/MyDrive/collect_machinekeyboard/viglen_keyboard/41k/piece/0/15.wav', '/content/drive/MyDrive/collect_machinekeyboard/viglen_keyboard/41k/piece/0/18.wav', '/content/drive/MyDrive/collect_machinekeyboard/viglen_keyboard/41k/piece/0/21.wav', '/content/drive/MyDrive/collect_machinekeyboard/viglen_keyboard/41k/piece/0/14.wav', '/content/drive/MyDrive/collect_machinekeyboard/viglen_keyboard/41k/piece/0/20.wav', '/content/drive/MyDrive/collect_machinekeyboard/viglen_keyboard/41k/piece/0/19.wav', '/content/drive/MyDrive/collect_machinekeyboard/viglen_keyboard/41k/piece/0/17.wav', '/content/drive/MyDrive/collect_machinekeyboard/viglen_keyboard/41k/piece/0/16.wav', '/content/drive/MyDrive/collect_machinekeyboard/viglen_keyboard/41k/piece/1/2.wav', '/content/drive/MyDrive/collect_machinekeyboard/viglen_keyboard/41k/piece/1/1.wav', '/content/drive/MyDrive/collect_machinekeyboard/viglen_keyboard/41k/piece/1/3.wav', '/content/drive/MyDrive/collect_machinekeyboard/viglen_keyboard/41k/piece/2/1.wav', '/content/drive/MyDrive/collect_machinekeyboard/viglen_keyboard/41k/piece/2/2.wav', '/content/drive/MyDrive/collect_machinekeyboard/viglen_keyboard/41k/piece/2/6.wav', '/content/drive/MyDrive/collect_machinekeyboard/viglen_keyboard/41k/piece/2/3.wav', '/content/drive/MyDrive/collect_machinekeyboard/viglen_keyboard/41k/piece/2/10.wav', '/content/drive/MyDrive/collect_machinekeyboard/viglen_keyboard/41k/piece/2/7.wav', '/content/drive/MyDrive/collect_machinekeyboard/viglen_keyboard/41k/piece/2/8.wav', '/content/drive/MyDrive/collect_machinekeyboard/viglen_keyboard/41k/piece/2/5.wav', '/content/drive/MyDrive/collect_machinekeyboard/viglen_keyboard/41k/piece/2/4.wav', '/content/drive/MyDrive/collect_machinekeyboard/viglen_keyboard/41k/piece/2/9.wav', '/content/drive/MyDrive/collect_machinekeyboard/viglen_keyboard/41k/piece/2/11.wav', '/content/drive/MyDrive/collect_machinekeyboard/viglen_keyboard/41k/piece/2/12.wav', '/content/drive/MyDrive/collect_machinekeyboard/viglen_keyboard/41k/piece/2/13.wav', '/content/drive/MyDrive/collect_machinekeyboard/viglen_keyboard/41k/piece/2/14.wav', '/content/drive/MyDrive/collect_machinekeyboard/viglen_keyboard/41k/piece/2/17.wav', '/content/drive/MyDrive/collect_machinekeyboard/viglen_keyboard/41k/piece/2/15.wav', '/content/drive/MyDrive/collect_machinekeyboard/viglen_keyboard/41k/piece/2/19.wav', '/content/drive/MyDrive/collect_machinekeyboard/viglen_keyboard/41k/piece/2/16.wav', '/content/drive/MyDrive/collect_machinekeyboard/viglen_keyboard/41k/piece/2/20.wav', '/content/drive/MyDrive/collect_machinekeyboard/viglen_keyboard/41k/piece/2/18.wav', '/content/drive/MyDrive/collect_machinekeyboard/viglen_keyboard/41k/piece/3/3.wav', '/content/drive/MyDrive/collect_machinekeyboard/viglen_keyboard/41k/piece/3/2.wav', '/content/drive/MyDrive/collect_machinekeyboard/viglen_keyboard/41k/piece/3/1.wav', '/content/drive/MyDrive/collect_machinekeyboard/viglen_keyboard/41k/piece/3/11.wav', '/content/drive/MyDrive/collect_machinekeyboard/viglen_keyboard/41k/piece/3/4.wav', '/content/drive/MyDrive/collect_machinekeyboard/viglen_keyboard/41k/piece/3/10.wav', '/content/drive/MyDrive/collect_machinekeyboard/viglen_keyboard/41k/piece/3/5.wav', '/content/drive/MyDrive/collect_machinekeyboard/viglen_keyboard/41k/piece/3/7.wav', '/content/drive/MyDrive/collect_machinekeyboard/viglen_keyboard/41k/piece/3/8.wav', '/content/drive/MyDrive/collect_machinekeyboard/viglen_keyboard/41k/piece/3/13.wav', '/content/drive/MyDrive/collect_machinekeyboard/viglen_keyboard/41k/piece/3/12.wav', '/content/drive/MyDrive/collect_machinekeyboard/viglen_keyboard/41k/piece/3/9.wav', '/content/drive/MyDrive/collect_machinekeyboard/viglen_keyboard/41k/piece/3/6.wav', '/content/drive/MyDrive/collect_machinekeyboard/viglen_keyboard/41k/piece/3/14.wav', '/content/drive/MyDrive/collect_machinekeyboard/viglen_keyboard/41k/piece/3/16.wav', '/content/drive/MyDrive/collect_machinekeyboard/viglen_keyboard/41k/piece/3/15.wav', '/content/drive/MyDrive/collect_machinekeyboard/viglen_keyboard/41k/piece/3/18.wav', '/content/drive/MyDrive/collect_machinekeyboard/viglen_keyboard/41k/piece/3/17.wav', '/content/drive/MyDrive/collect_machinekeyboard/viglen_keyboard/41k/piece/3/19.wav', '/content/drive/MyDrive/collect_machinekeyboard/viglen_keyboard/41k/piece/3/20.wav', '/content/drive/MyDrive/collect_machinekeyboard/viglen_keyboard/41k/piece/4/1.wav', '/content/drive/MyDrive/collect_machinekeyboard/viglen_keyboard/41k/piece/4/2.wav', '/content/drive/MyDrive/collect_machinekeyboard/viglen_keyboard/41k/piece/4/5.wav', '/content/drive/MyDrive/collect_machinekeyboard/viglen_keyboard/41k/piece/4/4.wav', '/content/drive/MyDrive/collect_machinekeyboard/viglen_keyboard/41k/piece/4/11.wav', '/content/drive/MyDrive/collect_machinekeyboard/viglen_keyboard/41k/piece/4/6.wav', '/content/drive/MyDrive/collect_machinekeyboard/viglen_keyboard/41k/piece/4/9.wav', '/content/drive/MyDrive/collect_machinekeyboard/viglen_keyboard/41k/piece/4/3.wav', '/content/drive/MyDrive/collect_machinekeyboard/viglen_keyboard/41k/piece/4/8.wav', '/content/drive/MyDrive/collect_machinekeyboard/viglen_keyboard/41k/piece/4/12.wav', '/content/drive/MyDrive/collect_machinekeyboard/viglen_keyboard/41k/piece/4/7.wav', '/content/drive/MyDrive/collect_machinekeyboard/viglen_keyboard/41k/piece/4/10.wav', '/content/drive/MyDrive/collect_machinekeyboard/viglen_keyboard/41k/piece/4/13.wav', '/content/drive/MyDrive/collect_machinekeyboard/viglen_keyboard/41k/piece/4/19.wav', '/content/drive/MyDrive/collect_machinekeyboard/viglen_keyboard/41k/piece/4/15.wav', '/content/drive/MyDrive/collect_machinekeyboard/viglen_keyboard/41k/piece/4/14.wav', '/content/drive/MyDrive/collect_machinekeyboard/viglen_keyboard/41k/piece/4/17.wav', '/content/drive/MyDrive/collect_machinekeyboard/viglen_keyboard/41k/piece/4/16.wav', '/content/drive/MyDrive/collect_machinekeyboard/viglen_keyboard/41k/piece/4/18.wav', '/content/drive/MyDrive/collect_machinekeyboard/viglen_keyboard/41k/piece/4/20.wav', '/content/drive/MyDrive/collect_machinekeyboard/viglen_keyboard/41k/piece/5/2.wav', '/content/drive/MyDrive/collect_machinekeyboard/viglen_keyboard/41k/piece/5/1.wav', '/content/drive/MyDrive/collect_machinekeyboard/viglen_keyboard/41k/piece/5/3.wav', '/content/drive/MyDrive/collect_machinekeyboard/viglen_keyboard/41k/piece/5/5.wav', '/content/drive/MyDrive/collect_machinekeyboard/viglen_keyboard/41k/piece/5/4.wav', '/content/drive/MyDrive/collect_machinekeyboard/viglen_keyboard/41k/piece/5/10.wav', '/content/drive/MyDrive/collect_machinekeyboard/viglen_keyboard/41k/piece/5/6.wav', '/content/drive/MyDrive/collect_machinekeyboard/viglen_keyboard/41k/piece/5/7.wav', '/content/drive/MyDrive/collect_machinekeyboard/viglen_keyboard/41k/piece/5/11.wav', '/content/drive/MyDrive/collect_machinekeyboard/viglen_keyboard/41k/piece/5/9.wav', '/content/drive/MyDrive/collect_machinekeyboard/viglen_keyboard/41k/piece/5/8.wav', '/content/drive/MyDrive/collect_machinekeyboard/viglen_keyboard/41k/piece/5/12.wav', '/content/drive/MyDrive/collect_machinekeyboard/viglen_keyboard/41k/piece/5/13.wav', '/content/drive/MyDrive/collect_machinekeyboard/viglen_keyboard/41k/piece/5/19.wav', '/content/drive/MyDrive/collect_machinekeyboard/viglen_keyboard/41k/piece/5/15.wav', '/content/drive/MyDrive/collect_machinekeyboard/viglen_keyboard/41k/piece/5/14.wav', '/content/drive/MyDrive/collect_machinekeyboard/viglen_keyboard/41k/piece/5/17.wav', '/content/drive/MyDrive/collect_machinekeyboard/viglen_keyboard/41k/piece/5/20.wav', '/content/drive/MyDrive/collect_machinekeyboard/viglen_keyboard/41k/piece/5/16.wav', '/content/drive/MyDrive/collect_machinekeyboard/viglen_keyboard/41k/piece/5/18.wav', '/content/drive/MyDrive/collect_machinekeyboard/viglen_keyboard/41k/piece/6/2.wav', '/content/drive/MyDrive/collect_machinekeyboard/viglen_keyboard/41k/piece/6/1.wav', '/content/drive/MyDrive/collect_machinekeyboard/viglen_keyboard/41k/piece/6/11.wav', '/content/drive/MyDrive/collect_machinekeyboard/viglen_keyboard/41k/piece/6/8.wav', '/content/drive/MyDrive/collect_machinekeyboard/viglen_keyboard/41k/piece/6/9.wav', '/content/drive/MyDrive/collect_machinekeyboard/viglen_keyboard/41k/piece/6/10.wav', '/content/drive/MyDrive/collect_machinekeyboard/viglen_keyboard/41k/piece/6/5.wav', '/content/drive/MyDrive/collect_machinekeyboard/viglen_keyboard/41k/piece/6/7.wav', '/content/drive/MyDrive/collect_machinekeyboard/viglen_keyboard/41k/piece/6/6.wav', '/content/drive/MyDrive/collect_machinekeyboard/viglen_keyboard/41k/piece/6/12.wav', '/content/drive/MyDrive/collect_machinekeyboard/viglen_keyboard/41k/piece/6/3.wav', '/content/drive/MyDrive/collect_machinekeyboard/viglen_keyboard/41k/piece/6/4.wav', '/content/drive/MyDrive/collect_machinekeyboard/viglen_keyboard/41k/piece/6/16.wav', '/content/drive/MyDrive/collect_machinekeyboard/viglen_keyboard/41k/piece/6/15.wav', '/content/drive/MyDrive/collect_machinekeyboard/viglen_keyboard/41k/piece/6/17.wav', '/content/drive/MyDrive/collect_machinekeyboard/viglen_keyboard/41k/piece/6/14.wav', '/content/drive/MyDrive/collect_machinekeyboard/viglen_keyboard/41k/piece/6/13.wav', '/content/drive/MyDrive/collect_machinekeyboard/viglen_keyboard/41k/piece/6/19.wav', '/content/drive/MyDrive/collect_machinekeyboard/viglen_keyboard/41k/piece/6/18.wav', '/content/drive/MyDrive/collect_machinekeyboard/viglen_keyboard/41k/piece/7/4.wav', '/content/drive/MyDrive/collect_machinekeyboard/viglen_keyboard/41k/piece/7/3.wav', '/content/drive/MyDrive/collect_machinekeyboard/viglen_keyboard/41k/piece/7/1.wav', '/content/drive/MyDrive/collect_machinekeyboard/viglen_keyboard/41k/piece/7/2.wav', '/content/drive/MyDrive/collect_machinekeyboard/viglen_keyboard/41k/piece/7/5.wav', '/content/drive/MyDrive/collect_machinekeyboard/viglen_keyboard/41k/piece/7/11.wav', '/content/drive/MyDrive/collect_machinekeyboard/viglen_keyboard/41k/piece/7/6.wav', '/content/drive/MyDrive/collect_machinekeyboard/viglen_keyboard/41k/piece/7/9.wav', '/content/drive/MyDrive/collect_machinekeyboard/viglen_keyboard/41k/piece/7/8.wav', '/content/drive/MyDrive/collect_machinekeyboard/viglen_keyboard/41k/piece/7/10.wav', '/content/drive/MyDrive/collect_machinekeyboard/viglen_keyboard/41k/piece/7/12.wav', '/content/drive/MyDrive/collect_machinekeyboard/viglen_keyboard/41k/piece/7/7.wav', '/content/drive/MyDrive/collect_machinekeyboard/viglen_keyboard/41k/piece/7/13.wav', '/content/drive/MyDrive/collect_machinekeyboard/viglen_keyboard/41k/piece/7/14.wav', '/content/drive/MyDrive/collect_machinekeyboard/viglen_keyboard/41k/piece/7/15.wav', '/content/drive/MyDrive/collect_machinekeyboard/viglen_keyboard/41k/piece/7/17.wav', '/content/drive/MyDrive/collect_machinekeyboard/viglen_keyboard/41k/piece/7/18.wav', '/content/drive/MyDrive/collect_machinekeyboard/viglen_keyboard/41k/piece/7/16.wav', '/content/drive/MyDrive/collect_machinekeyboard/viglen_keyboard/41k/piece/8/2.wav', '/content/drive/MyDrive/collect_machinekeyboard/viglen_keyboard/41k/piece/8/1.wav', '/content/drive/MyDrive/collect_machinekeyboard/viglen_keyboard/41k/piece/8/3.wav', '/content/drive/MyDrive/collect_machinekeyboard/viglen_keyboard/41k/piece/8/8.wav', '/content/drive/MyDrive/collect_machinekeyboard/viglen_keyboard/41k/piece/8/5.wav', '/content/drive/MyDrive/collect_machinekeyboard/viglen_keyboard/41k/piece/8/11.wav', '/content/drive/MyDrive/collect_machinekeyboard/viglen_keyboard/41k/piece/8/6.wav', '/content/drive/MyDrive/collect_machinekeyboard/viglen_keyboard/41k/piece/8/7.wav', '/content/drive/MyDrive/collect_machinekeyboard/viglen_keyboard/41k/piece/8/9.wav', '/content/drive/MyDrive/collect_machinekeyboard/viglen_keyboard/41k/piece/8/10.wav', '/content/drive/MyDrive/collect_machinekeyboard/viglen_keyboard/41k/piece/8/4.wav', '/content/drive/MyDrive/collect_machinekeyboard/viglen_keyboard/41k/piece/8/12.wav', '/content/drive/MyDrive/collect_machinekeyboard/viglen_keyboard/41k/piece/8/13.wav', '/content/drive/MyDrive/collect_machinekeyboard/viglen_keyboard/41k/piece/8/14.wav', '/content/drive/MyDrive/collect_machinekeyboard/viglen_keyboard/41k/piece/8/15.wav', '/content/drive/MyDrive/collect_machinekeyboard/viglen_keyboard/41k/piece/8/17.wav', '/content/drive/MyDrive/collect_machinekeyboard/viglen_keyboard/41k/piece/8/16.wav', '/content/drive/MyDrive/collect_machinekeyboard/viglen_keyboard/41k/piece/8/19.wav', '/content/drive/MyDrive/collect_machinekeyboard/viglen_keyboard/41k/piece/8/18.wav', '/content/drive/MyDrive/collect_machinekeyboard/viglen_keyboard/41k/piece/9/2.wav', '/content/drive/MyDrive/collect_machinekeyboard/viglen_keyboard/41k/piece/9/1.wav', '/content/drive/MyDrive/collect_machinekeyboard/viglen_keyboard/41k/piece/9/3.wav', '/content/drive/MyDrive/collect_machinekeyboard/viglen_keyboard/41k/piece/9/10.wav', '/content/drive/MyDrive/collect_machinekeyboard/viglen_keyboard/41k/piece/9/6.wav', '/content/drive/MyDrive/collect_machinekeyboard/viglen_keyboard/41k/piece/9/8.wav', '/content/drive/MyDrive/collect_machinekeyboard/viglen_keyboard/41k/piece/9/11.wav', '/content/drive/MyDrive/collect_machinekeyboard/viglen_keyboard/41k/piece/9/5.wav', '/content/drive/MyDrive/collect_machinekeyboard/viglen_keyboard/41k/piece/9/4.wav', '/content/drive/MyDrive/collect_machinekeyboard/viglen_keyboard/41k/piece/9/7.wav', '/content/drive/MyDrive/collect_machinekeyboard/viglen_keyboard/41k/piece/9/12.wav', '/content/drive/MyDrive/collect_machinekeyboard/viglen_keyboard/41k/piece/9/9.wav', '/content/drive/MyDrive/collect_machinekeyboard/viglen_keyboard/41k/piece/9/14.wav', '/content/drive/MyDrive/collect_machinekeyboard/viglen_keyboard/41k/piece/9/13.wav', '/content/drive/MyDrive/collect_machinekeyboard/viglen_keyboard/41k/piece/9/18.wav', '/content/drive/MyDrive/collect_machinekeyboard/viglen_keyboard/41k/piece/9/15.wav', '/content/drive/MyDrive/collect_machinekeyboard/viglen_keyboard/41k/piece/9/16.wav', '/content/drive/MyDrive/collect_machinekeyboard/viglen_keyboard/41k/piece/9/19.wav', '/content/drive/MyDrive/collect_machinekeyboard/viglen_keyboard/41k/piece/9/17.wav', '/content/drive/MyDrive/collect_machinekeyboard/viglen_keyboard/41k/piece/9/20.wav']\n"
          ]
        }
      ]
    },
    {
      "cell_type": "code",
      "source": [
        "file_path = wcsv\n",
        "mode = 'w'\n",
        "write(file_path,wav_dir,class_to_num,mode,newline = '')"
      ],
      "metadata": {
        "id": "2sVMeaKYWiMT",
        "colab": {
          "base_uri": "https://localhost:8080/"
        },
        "outputId": "1a83ce46-2e2c-40a9-ece6-48a0b6cb1d4d"
      },
      "execution_count": null,
      "outputs": [
        {
          "output_type": "stream",
          "name": "stdout",
          "text": [
            "finish!\n",
            "finish!\n",
            "finish!\n",
            "finish!\n",
            "finish!\n",
            "finish!\n",
            "finish!\n",
            "finish!\n",
            "finish!\n",
            "finish!\n",
            "finish!\n",
            "finish!\n",
            "finish!\n",
            "finish!\n",
            "finish!\n",
            "finish!\n",
            "finish!\n",
            "finish!\n",
            "finish!\n",
            "finish!\n",
            "finish!\n",
            "finish!\n",
            "finish!\n",
            "finish!\n",
            "finish!\n",
            "finish!\n",
            "finish!\n",
            "finish!\n",
            "finish!\n",
            "finish!\n",
            "finish!\n",
            "finish!\n",
            "finish!\n",
            "finish!\n",
            "finish!\n",
            "finish!\n",
            "finish!\n",
            "finish!\n",
            "finish!\n",
            "finish!\n",
            "finish!\n",
            "finish!\n",
            "finish!\n",
            "finish!\n",
            "finish!\n",
            "finish!\n",
            "finish!\n",
            "finish!\n",
            "finish!\n",
            "finish!\n",
            "finish!\n",
            "finish!\n",
            "finish!\n",
            "finish!\n",
            "finish!\n",
            "finish!\n",
            "finish!\n",
            "finish!\n",
            "finish!\n",
            "finish!\n",
            "finish!\n",
            "finish!\n",
            "finish!\n",
            "finish!\n",
            "finish!\n",
            "finish!\n",
            "finish!\n",
            "finish!\n",
            "finish!\n",
            "finish!\n",
            "finish!\n",
            "finish!\n",
            "finish!\n",
            "finish!\n",
            "finish!\n",
            "finish!\n",
            "finish!\n",
            "finish!\n",
            "finish!\n",
            "finish!\n",
            "finish!\n",
            "finish!\n",
            "finish!\n",
            "finish!\n",
            "finish!\n",
            "finish!\n",
            "finish!\n",
            "finish!\n",
            "finish!\n",
            "finish!\n",
            "finish!\n",
            "finish!\n",
            "finish!\n",
            "finish!\n",
            "finish!\n",
            "finish!\n",
            "finish!\n",
            "finish!\n",
            "finish!\n",
            "finish!\n",
            "finish!\n",
            "finish!\n",
            "finish!\n",
            "finish!\n",
            "finish!\n",
            "finish!\n",
            "finish!\n",
            "finish!\n",
            "finish!\n",
            "finish!\n",
            "finish!\n",
            "finish!\n",
            "finish!\n",
            "finish!\n",
            "finish!\n",
            "finish!\n",
            "finish!\n",
            "finish!\n",
            "finish!\n",
            "finish!\n",
            "finish!\n",
            "finish!\n",
            "finish!\n",
            "finish!\n",
            "finish!\n",
            "finish!\n",
            "finish!\n",
            "finish!\n",
            "finish!\n",
            "finish!\n",
            "finish!\n",
            "finish!\n",
            "finish!\n",
            "finish!\n",
            "finish!\n",
            "finish!\n",
            "finish!\n",
            "finish!\n",
            "finish!\n",
            "finish!\n",
            "finish!\n",
            "finish!\n",
            "finish!\n",
            "finish!\n",
            "finish!\n",
            "finish!\n",
            "finish!\n",
            "finish!\n",
            "finish!\n",
            "finish!\n",
            "finish!\n",
            "finish!\n",
            "finish!\n",
            "finish!\n",
            "finish!\n",
            "finish!\n",
            "finish!\n",
            "finish!\n",
            "finish!\n",
            "finish!\n",
            "finish!\n",
            "finish!\n",
            "finish!\n",
            "finish!\n",
            "finish!\n",
            "finish!\n",
            "finish!\n",
            "finish!\n",
            "finish!\n",
            "finish!\n",
            "finish!\n",
            "finish!\n",
            "finish!\n",
            "finish!\n",
            "finish!\n",
            "finish!\n",
            "finish!\n",
            "finish!\n",
            "finish!\n",
            "finish!\n",
            "finish!\n",
            "finish!\n",
            "finish!\n",
            "finish!\n",
            "finish!\n",
            "finish!\n",
            "finish!\n",
            "finish!\n",
            "finish!\n",
            "finish!\n",
            "finish!\n",
            "finish!\n",
            "finish!\n",
            "finish!\n",
            "finish!\n",
            "finish!\n",
            "finish!\n",
            "finish!\n",
            "finish!\n",
            "finish!\n",
            "finish!\n",
            "finish!\n",
            "finish!\n",
            "finish!\n",
            "finish!\n",
            "finish!\n",
            "finish!\n",
            "finish!\n",
            "finish!\n",
            "finish!\n",
            "finish!\n",
            "finish!\n",
            "finish!\n",
            "finish!\n",
            "finish!\n",
            "finish!\n",
            "finish!\n",
            "finish!\n",
            "finish!\n",
            "finish!\n",
            "finish!\n",
            "finish!\n",
            "finish!\n",
            "finish!\n",
            "finish!\n",
            "finish!\n",
            "finish!\n",
            "finish!\n",
            "finish!\n",
            "finish!\n",
            "finish!\n",
            "finish!\n",
            "finish!\n",
            "finish!\n",
            "finish!\n",
            "finish!\n",
            "finish!\n",
            "finish!\n",
            "finish!\n",
            "finish!\n",
            "finish!\n",
            "finish!\n",
            "finish!\n",
            "finish!\n",
            "finish!\n",
            "finish!\n",
            "finish!\n",
            "finish!\n",
            "finish!\n",
            "finish!\n",
            "finish!\n",
            "finish!\n",
            "finish!\n",
            "finish!\n",
            "finish!\n",
            "finish!\n",
            "finish!\n",
            "finish!\n",
            "finish!\n",
            "finish!\n",
            "finish!\n",
            "finish!\n",
            "finish!\n",
            "finish!\n",
            "finish!\n",
            "finish!\n",
            "finish!\n",
            "finish!\n",
            "finish!\n",
            "finish!\n",
            "finish!\n",
            "finish!\n",
            "finish!\n",
            "finish!\n",
            "finish!\n",
            "finish!\n",
            "finish!\n",
            "finish!\n",
            "finish!\n"
          ]
        }
      ]
    },
    {
      "cell_type": "code",
      "source": [
        "# append\n",
        "# file_path = wcsv\n",
        "# mode = 'a'\n",
        "# write(file_path,wav_dir,class_to_num,mode,newline = '')"
      ],
      "metadata": {
        "id": "YqVoo_PpzNfC"
      },
      "execution_count": null,
      "outputs": []
    }
  ]
}