{
  "cells": [
    {
      "cell_type": "markdown",
      "metadata": {
        "id": "view-in-github",
        "colab_type": "text"
      },
      "source": [
        "<a href=\"https://colab.research.google.com/github/SonjaWangJQ/Keyboard-ML/blob/main/4_cepstrum_on_classifers.ipynb\" target=\"_parent\"><img src=\"https://colab.research.google.com/assets/colab-badge.svg\" alt=\"Open In Colab\"/></a>"
      ]
    },
    {
      "cell_type": "markdown",
      "source": [
        "## LOAD DATA"
      ],
      "metadata": {
        "id": "gMH-lTolVJoo"
      }
    },
    {
      "cell_type": "code",
      "execution_count": null,
      "metadata": {
        "colab": {
          "base_uri": "https://localhost:8080/"
        },
        "id": "97yR6vY716ke",
        "outputId": "73437bb2-92f8-43c9-96e0-e48abd90df36"
      },
      "outputs": [
        {
          "output_type": "stream",
          "name": "stdout",
          "text": [
            "Mounted at /content/drive\n"
          ]
        }
      ],
      "source": [
        "from google.colab import drive\n",
        "drive.mount('/content/drive')"
      ]
    },
    {
      "cell_type": "code",
      "execution_count": null,
      "metadata": {
        "id": "58DoZIih9NwA"
      },
      "outputs": [],
      "source": [
        "from sklearn.svm import SVC\n",
        "from sklearn.model_selection import cross_val_score, GridSearchCV, train_test_split\n",
        "from sklearn.metrics import classification_report, confusion_matrix\n",
        "import matplotlib.pyplot as plt\n",
        "import seaborn as sns\n",
        "from sklearn.model_selection import train_test_split"
      ]
    },
    {
      "cell_type": "code",
      "execution_count": null,
      "metadata": {
        "id": "gFEiegTHkRjQ"
      },
      "outputs": [],
      "source": [
        "\n",
        "from sklearn.preprocessing import StandardScaler\n",
        "\n",
        "from sklearn.utils import shuffle\n",
        "\n",
        "import math, random\n",
        "import torch\n",
        "import torchaudio\n",
        "import librosa\n",
        "from torchaudio import transforms\n",
        "from IPython.display import Audio\n",
        "import numpy as np\n",
        "import pandas as pd\n",
        "from torch.utils.data import DataLoader, Dataset, random_split\n",
        "import csv\n",
        "import matplotlib.pyplot as plt\n",
        "import numpy as np\n",
        "from scipy.fftpack import dct"
      ]
    },
    {
      "cell_type": "code",
      "execution_count": null,
      "metadata": {
        "id": "PiWvjS7hZm5q"
      },
      "outputs": [],
      "source": [
        "\n",
        "\n",
        "class AudioUtil():\n",
        "  # ----------------------------\n",
        "  # Load an audio file. Return the signal as a tensor and the sample rate\n",
        "  # ----------------------------\n",
        "\n",
        "  @staticmethod\n",
        "  def open(audio_file):\n",
        "    sig, sr = torchaudio.load(audio_file)\n",
        "    return (sig, sr)\n",
        "\n",
        "\n",
        "\n",
        "\n",
        "\n",
        "  @staticmethod\n",
        "  def time_shift(aud, shift_limit):\n",
        "    sig,sr = aud\n",
        "    _, sig_len = sig.shape\n",
        "    shift_amt = int(random.random() * shift_limit * sig_len)\n",
        "    return (sig.roll(shift_amt), sr)\n",
        "\n",
        "\n",
        "\n",
        "  @staticmethod\n",
        "  def compute_mfcc(aud, n_mfcc=32, window_size=0.01, step_size=0.0025, n_filters=32):\n",
        "\n",
        "            sig, sr = aud\n",
        "            n_fft = int(sr * window_size)\n",
        "            hop_length = int(sr * step_size)\n",
        "\n",
        "            mfccs = librosa.feature.mfcc(\n",
        "                y=sig.numpy(),\n",
        "                sr=sr,\n",
        "                n_mfcc=n_mfcc,\n",
        "                n_fft=n_fft,\n",
        "                hop_length=hop_length,\n",
        "                n_mels=n_filters\n",
        "            )\n",
        "            return mfccs.T\n",
        "\n",
        "\n",
        "  @staticmethod\n",
        "  def compute_stft(aud, n_fft=2048, hop_length=512, window='hann'):\n",
        "    sig, sr = aud\n",
        "    audio = sig.squeeze().numpy()\n",
        "\n",
        "    # Compute STFT\n",
        "    stft_result = librosa.core.stft(audio, n_fft=2048, hop_length=512, window='hann')\n",
        "\n",
        "    # Get magnitude spectrum\n",
        "    magnitude = np.abs(stft_result)\n",
        "\n",
        "    # Get frequency axis\n",
        "    freqs = librosa.core.fft_frequencies(sr=sr, n_fft=2048)\n",
        "\n",
        "    return freqs, magnitude\n",
        "\n",
        "  @staticmethod\n",
        "  def compute_cepstrum(aud,window_size=0.01,step_size=0.0025):\n",
        "        sig, sr = aud\n",
        "        n_fft = int(sr * window_size)\n",
        "        hop_length = int(sr * step_size)\n",
        "\n",
        "        # 计算STFT（功率谱）\n",
        "        stft_result = librosa.core.stft(sig.numpy(), n_fft=n_fft, hop_length=hop_length, window='hann')\n",
        "\n",
        "        # 计算对数功率谱\n",
        "        log_power_spectrum = np.log(np.abs(stft_result)**2)\n",
        "\n",
        "        # 计算Cepstrum（倒谱）\n",
        "        cepstrum = librosa.core.istft(log_power_spectrum, hop_length=hop_length, window='hann')\n",
        "\n",
        "        return cepstrum.T\n",
        "\n",
        "\n"
      ]
    },
    {
      "cell_type": "code",
      "execution_count": null,
      "metadata": {
        "id": "TXD124mde-tc"
      },
      "outputs": [],
      "source": [
        "\n",
        "# ----------------------------\n",
        "# SoundDS +10ms\n",
        "# ----------------------------\n",
        "class SoundDS(Dataset):\n",
        "\n",
        "  def __init__(self, csv_filename):\n",
        "    self.csv_filename = csv_filename\n",
        "    # self.train_indices = train_indices  # 训练集的索引列表\n",
        "    self.sr = 44100\n",
        "    self.channel = 1\n",
        "    # self.shift_pct = 0.01   # +10ms\n",
        "    self.audio_file, self.class_id = self.load_datapath()\n",
        "\n",
        "\n",
        "  def load_datapath(self):\n",
        "        audio_file, class_id = [], []\n",
        "        with open(self.csv_filename) as f:\n",
        "            reader = csv.reader(f)\n",
        "            next(reader)  # Skip the header line\n",
        "            for row in reader:\n",
        "                i, l = row\n",
        "                audio_file.append(i)\n",
        "                class_id.append(int(l))  # Convert class ID to integer\n",
        "        return audio_file, class_id\n",
        "\n",
        "  def __len__(self):\n",
        "    return len(self.audio_file)\n",
        "\n",
        "\n",
        "  def get_class_counts(self):\n",
        "        class_counts = {}\n",
        "        for cls_id in self.class_id:\n",
        "            if cls_id in class_counts:\n",
        "                class_counts[cls_id] += 1\n",
        "            else:\n",
        "                class_counts[cls_id] = 1\n",
        "        return class_counts\n",
        "\n",
        "\n",
        "\n",
        "\n",
        "\n",
        "  def __getitem__(self, idx):\n",
        "\n",
        "    # Absolute file path of the audio file - concatenate the audio directory with\n",
        "    # the relative path，Get the Class ID\n",
        "\n",
        "    # Get the Class ID\n",
        "    audio_path = self.audio_file[idx]\n",
        "    class_id = self.class_id[idx]\n",
        "\n",
        "\n",
        "    aud = AudioUtil.open(audio_path)\n",
        "    # shift_aud = AudioUtil.time_shift(aud, self.shift_pct)\n",
        "    # mfcc_aud = AudioUtil.compute_mfcc(shift_aud)\n",
        "    # mfcc_data = np.array(mfcc_aud)\n",
        "    # fft_audio = AudioUtil.compute_fft(shift_aud )\n",
        "    # fft_data = np.array(fft_audio)\n",
        "    cepstrum_aud = AudioUtil.compute_cepstrum(aud)\n",
        "\n",
        "    return cepstrum_aud, class_id\n"
      ]
    },
    {
      "cell_type": "markdown",
      "metadata": {
        "id": "zOzq-fqn19XX"
      },
      "source": [
        "\n",
        "\n",
        "---\n",
        "\n"
      ]
    },
    {
      "cell_type": "code",
      "execution_count": null,
      "metadata": {
        "id": "8WiimhaWkQLt"
      },
      "outputs": [],
      "source": [
        "# shift  append into X,y\n",
        "csv_filename = \"/content/drive/MyDrive/collect_machinekeyboard/collect/piece2_441.csv\"\n",
        "sound_dataset_shift= SoundDS(csv_filename)\n",
        "X = []\n",
        "y = []\n",
        "# path = []\n",
        "\n",
        "\n",
        "for idx in range(len(sound_dataset_shift)):\n",
        "    mfcc_data, class_id = sound_dataset_shift[idx]\n",
        "    X.append(mfcc_data)\n",
        "    y.append(class_id)\n",
        "    # path.append(audio_path)\n",
        "\n"
      ]
    },
    {
      "cell_type": "code",
      "execution_count": null,
      "metadata": {
        "colab": {
          "base_uri": "https://localhost:8080/"
        },
        "id": "_zAAdGH65GwU",
        "outputId": "1820c150-0677-4947-aeb8-b1ffe0210133"
      },
      "outputs": [
        {
          "output_type": "stream",
          "name": "stdout",
          "text": [
            "(1467, 4400, 1)\n",
            "(1173, 4400)\n"
          ]
        }
      ],
      "source": [
        "X = np.array(X)\n",
        "y = np.array(y)\n",
        "# path = np.array(path)\n",
        "# check length\n",
        "assert X.shape[0] == len(y), \"Shape mismatch between X and y\"\n",
        "# assert X.shape[0] == len(path), \"Shape mismatch between X and path\"\n",
        "print(X.shape)\n",
        "\n",
        "X_reshaped = X.reshape(X.shape[0], -1)  # 将 X 重新塑造为二维矩阵\n",
        "\n",
        "# 拆分数据集\n",
        "X_train, X_test, y_train, y_test = train_test_split(X_reshaped, y, test_size=0.2, random_state=42, stratify=y)\n",
        "print(X_train.shape)\n"
      ]
    },
    {
      "cell_type": "markdown",
      "metadata": {
        "id": "jlo9jXb86Qb7"
      },
      "source": [
        "这时我们得到了train data路径, path-train(0.2*1407,)"
      ]
    },
    {
      "cell_type": "markdown",
      "metadata": {
        "id": "kNyGD_WY5tLG"
      },
      "source": [
        "\n",
        "\n",
        "---\n",
        "\n"
      ]
    },
    {
      "cell_type": "markdown",
      "metadata": {
        "id": "nZ8iBhS41_4k"
      },
      "source": [
        "\n",
        "\n",
        "\n",
        "\n",
        "---\n",
        "\n",
        "\n",
        "\n",
        "\n"
      ]
    },
    {
      "cell_type": "code",
      "execution_count": null,
      "metadata": {
        "colab": {
          "base_uri": "https://localhost:8080/"
        },
        "id": "2ZLjS6hzNYub",
        "outputId": "2d77379b-8964-4647-a43c-bbaca977a2bb"
      },
      "outputs": [
        {
          "output_type": "stream",
          "name": "stdout",
          "text": [
            "(1173, 4400) (294, 4400)\n"
          ]
        }
      ],
      "source": [
        "scaler = StandardScaler()\n",
        "X_train_scaled = scaler.fit_transform(X_train) # 标准化\n",
        "X_test_scaled = scaler.transform(X_test) # keep it\n",
        "# X_val_scaled = scaler.transform(X_val)\n",
        "print(X_train_scaled.shape, X_test_scaled.shape)"
      ]
    },
    {
      "cell_type": "code",
      "execution_count": null,
      "metadata": {
        "colab": {
          "base_uri": "https://localhost:8080/"
        },
        "id": "x-oNya59TJ07",
        "outputId": "42d2c5fd-0492-42f8-c598-a29be62415dd"
      },
      "outputs": [
        {
          "output_type": "stream",
          "name": "stdout",
          "text": [
            "(1173,) (294,)\n"
          ]
        }
      ],
      "source": [
        "print(y_train.shape,y_test.shape)"
      ]
    },
    {
      "cell_type": "markdown",
      "metadata": {
        "id": "9yC_0oQyo7QR"
      },
      "source": [
        "## 使用原数据训练结果 MFCC"
      ]
    },
    {
      "cell_type": "markdown",
      "source": [
        "### svm"
      ],
      "metadata": {
        "id": "g8qXMzMMYJ6W"
      }
    },
    {
      "cell_type": "code",
      "execution_count": null,
      "metadata": {
        "colab": {
          "base_uri": "https://localhost:8080/"
        },
        "outputId": "9f568b3e-cd3e-421c-c607-94d027f244cb",
        "id": "brqeYVZb-XT9"
      },
      "outputs": [
        {
          "output_type": "stream",
          "name": "stderr",
          "text": [
            "/usr/local/lib/python3.10/dist-packages/sklearn/metrics/_classification.py:1344: UndefinedMetricWarning: Precision and F-score are ill-defined and being set to 0.0 in labels with no predicted samples. Use `zero_division` parameter to control this behavior.\n",
            "  _warn_prf(average, modifier, msg_start, len(result))\n",
            "/usr/local/lib/python3.10/dist-packages/sklearn/metrics/_classification.py:1344: UndefinedMetricWarning: Precision and F-score are ill-defined and being set to 0.0 in labels with no predicted samples. Use `zero_division` parameter to control this behavior.\n",
            "  _warn_prf(average, modifier, msg_start, len(result))\n",
            "/usr/local/lib/python3.10/dist-packages/sklearn/metrics/_classification.py:1344: UndefinedMetricWarning: Precision and F-score are ill-defined and being set to 0.0 in labels with no predicted samples. Use `zero_division` parameter to control this behavior.\n",
            "  _warn_prf(average, modifier, msg_start, len(result))\n"
          ]
        },
        {
          "output_type": "stream",
          "name": "stdout",
          "text": [
            "Best parameters: {'C': 1, 'gamma': 'scale', 'kernel': 'linear'}\n",
            "Classification Report:\n",
            "              precision    recall  f1-score   support\n",
            "\n",
            "     Class 0       0.67      0.25      0.36         8\n",
            "     Class 1       0.50      0.56      0.53         9\n",
            "     Class 2       0.22      0.44      0.30         9\n",
            "     Class 3       0.24      0.40      0.30        10\n",
            "     Class 4       0.60      0.33      0.43         9\n",
            "     Class 5       1.00      0.12      0.22         8\n",
            "     Class 6       0.15      0.22      0.18         9\n",
            "     Class 7       0.30      0.70      0.42        10\n",
            "     Class 8       0.40      0.80      0.53        10\n",
            "     Class 9       0.25      0.20      0.22        10\n",
            "    Class 10       1.00      0.29      0.44         7\n",
            "    Class 11       0.21      0.33      0.26         9\n",
            "    Class 12       0.00      0.00      0.00         8\n",
            "    Class 13       1.00      0.29      0.44         7\n",
            "    Class 14       0.75      0.33      0.46         9\n",
            "    Class 15       0.70      0.78      0.74         9\n",
            "    Class 16       1.00      0.25      0.40         8\n",
            "    Class 17       0.32      0.73      0.44        11\n",
            "    Class 18       1.00      0.43      0.60         7\n",
            "    Class 19       0.00      0.00      0.00         6\n",
            "    Class 20       0.50      0.50      0.50        10\n",
            "    Class 21       0.80      0.44      0.57         9\n",
            "    Class 22       0.40      0.22      0.29         9\n",
            "    Class 23       0.23      0.30      0.26        10\n",
            "    Class 24       0.33      0.44      0.38         9\n",
            "    Class 25       0.33      0.44      0.38         9\n",
            "    Class 26       0.00      0.00      0.00         5\n",
            "    Class 27       0.25      0.17      0.20         6\n",
            "    Class 28       0.08      0.12      0.10         8\n",
            "    Class 29       1.00      0.50      0.67         4\n",
            "    Class 30       0.00      0.00      0.00         6\n",
            "    Class 31       0.25      0.22      0.24         9\n",
            "    Class 32       0.00      0.00      0.00         8\n",
            "    Class 33       0.00      0.00      0.00         5\n",
            "    Class 34       0.60      0.43      0.50         7\n",
            "    Class 35       0.30      0.43      0.35         7\n",
            "\n",
            "    accuracy                           0.35       294\n",
            "   macro avg       0.43      0.32      0.33       294\n",
            "weighted avg       0.42      0.35      0.34       294\n",
            "\n",
            "Top-1 Accuracy Score: 0.3469\n",
            "Top-2 Accuracy Score: 0.4558\n",
            "Top-3 Accuracy Score: 0.5272\n",
            "Top-4 Accuracy Score: 0.5850\n",
            "Top-5 Accuracy Score: 0.6190\n"
          ]
        }
      ],
      "source": [
        "#SVM model 使用原数据训练结果\n",
        "#\n",
        "# Best parameters: {'C': 10, 'kernel': 'rbf'} 0.84\n",
        "#Mfcc: aud, n_mfcc=32, window_size=0.01, step_size=0.0025, n_filters=64\n",
        "#  parameter grid for grid search\n",
        "from sklearn.metrics import top_k_accuracy_score\n",
        "\n",
        "\n",
        "param_grid = {\n",
        "    # 'C': [1, 5, 10, 100],\n",
        "    'C': [1],\n",
        "    'kernel': ['linear'],\n",
        "    'gamma': ['scale']\n",
        "    # 'gamma':[0.001]\n",
        "    }\n",
        "\n",
        "#  SVM model\n",
        "svm = SVC()\n",
        "\n",
        "#  grid search object with 10-fold cross-validation\n",
        "grid_search = GridSearchCV(svm, param_grid, cv=10, n_jobs=-1)\n",
        "grid_search.fit(X_train_scaled, y_train)\n",
        "\n",
        "#  best model from grid search\n",
        "best_model = grid_search.best_estimator_\n",
        "\n",
        "# Predict using the best model\n",
        "y_pred = best_model.predict(X_test_scaled)\n",
        "target_names = [f'Class {i}' for i in range(36)]\n",
        "#   classification report\n",
        "cr = classification_report(y_test, y_pred, target_names=target_names)\n",
        "# N = 5  # Change this to the desired value\n",
        "# top_n_accuracy = top_k_accuracy_score(y_test, best_model.decision_function(X_test_scaled), k=N)\n",
        "\n",
        "\n",
        "\n",
        "N_values = [1, 2, 3, 4, 5]\n",
        "top_n_accuracies = [top_k_accuracy_score(y_test, best_model.decision_function(X_test_scaled), k=N) for N in N_values]\n",
        "\n",
        "# Print results\n",
        "print(\"Best parameters:\", grid_search.best_params_)\n",
        "print(\"Classification Report:\")\n",
        "print(cr)\n",
        "for N, accuracy in zip(N_values, top_n_accuracies):\n",
        "    print(f\"Top-{N} Accuracy Score: {accuracy:.4f}\")\n"
      ]
    },
    {
      "cell_type": "markdown",
      "source": [
        "### Multinomial Logistic Regression"
      ],
      "metadata": {
        "id": "cODIivc5GOPA"
      }
    },
    {
      "cell_type": "code",
      "source": [
        "from sklearn.model_selection import cross_val_score, GridSearchCV, train_test_split\n",
        "from sklearn.preprocessing import StandardScaler\n",
        "from sklearn.linear_model import LogisticRegression\n",
        "from sklearn.datasets import load_digits\n",
        "from sklearn.metrics import classification_report\n",
        "from sklearn.utils import shuffle"
      ],
      "metadata": {
        "id": "i4vDv6CRGZmC"
      },
      "execution_count": null,
      "outputs": []
    },
    {
      "cell_type": "code",
      "source": [
        "#数据 origial\n",
        "\n",
        "# Multinomial Logistic Regression  X,y 0.2 ；L2；10 fold across MFCC\n",
        "\n",
        "#X,y 0.2 ；L2；10 fold across MFCC\n",
        "\n",
        "multi_logreg = LogisticRegression(multi_class=\"multinomial\", solver=\"lbfgs\",max_iter=1000)\n",
        "\n",
        "param_grid = {\n",
        "    'C': [ 1,10 ],\n",
        "    'penalty': ['l2']\n",
        "}\n",
        "\n",
        "# 10 fold across\n",
        "grid_search = GridSearchCV(multi_logreg, param_grid, cv=10, n_jobs=-1)\n",
        "\n",
        "grid_search.fit(X_train_scaled, y_train)\n",
        "print(\"Best parameters:\", grid_search.best_params_)\n",
        "\n",
        "best_model = grid_search.best_estimator_\n",
        "y_pred = best_model.predict(X_test_scaled)\n",
        "\n",
        "\n",
        "\n",
        "target_names = [f'Class {i}' for i in range(36)]\n",
        "\n",
        "# report\n",
        "cr = classification_report(y_test, y_pred, target_names=target_names)\n",
        "\n",
        "# Top-N accuracy score\n",
        "N_values = [1, 2, 3, 4, 5]  # You can add more N values if needed\n",
        "top_n_accuracies = [top_k_accuracy_score(y_test, best_model.predict_proba(X_test_scaled), k=N) for N in N_values]\n",
        "\n",
        "# Print top-N accuracy scores\n",
        "for N, accuracy in zip(N_values, top_n_accuracies):\n",
        "    print(f\"Top-{N} Accuracy Score: {accuracy:.4f}\")\n",
        "\n",
        "# Print classification report\n",
        "print(\"Classification Report:\")\n",
        "print(cr)"
      ],
      "metadata": {
        "colab": {
          "base_uri": "https://localhost:8080/"
        },
        "id": "HD5RlDbpJoQz",
        "outputId": "a29fe06e-2ee8-4eb1-8951-b3640aef64d2"
      },
      "execution_count": null,
      "outputs": [
        {
          "output_type": "stream",
          "name": "stdout",
          "text": [
            "Best parameters: {'C': 10, 'penalty': 'l2'}\n",
            "Top-1 Accuracy Score: 0.3707\n",
            "Top-2 Accuracy Score: 0.4490\n",
            "Top-3 Accuracy Score: 0.5136\n",
            "Top-4 Accuracy Score: 0.5986\n",
            "Top-5 Accuracy Score: 0.6701\n",
            "Classification Report:\n",
            "              precision    recall  f1-score   support\n",
            "\n",
            "     Class 0       0.40      0.25      0.31         8\n",
            "     Class 1       0.46      0.67      0.55         9\n",
            "     Class 2       0.27      0.44      0.33         9\n",
            "     Class 3       0.40      0.40      0.40        10\n",
            "     Class 4       0.57      0.44      0.50         9\n",
            "     Class 5       0.33      0.12      0.18         8\n",
            "     Class 6       0.25      0.22      0.24         9\n",
            "     Class 7       0.41      0.70      0.52        10\n",
            "     Class 8       0.53      0.80      0.64        10\n",
            "     Class 9       0.33      0.30      0.32        10\n",
            "    Class 10       0.40      0.29      0.33         7\n",
            "    Class 11       0.23      0.33      0.27         9\n",
            "    Class 12       0.22      0.25      0.24         8\n",
            "    Class 13       0.75      0.43      0.55         7\n",
            "    Class 14       0.60      0.33      0.43         9\n",
            "    Class 15       0.53      0.89      0.67         9\n",
            "    Class 16       0.33      0.25      0.29         8\n",
            "    Class 17       0.40      0.55      0.46        11\n",
            "    Class 18       0.57      0.57      0.57         7\n",
            "    Class 19       1.00      0.33      0.50         6\n",
            "    Class 20       0.45      0.50      0.48        10\n",
            "    Class 21       0.36      0.44      0.40         9\n",
            "    Class 22       0.29      0.22      0.25         9\n",
            "    Class 23       0.21      0.30      0.25        10\n",
            "    Class 24       0.44      0.44      0.44         9\n",
            "    Class 25       0.44      0.44      0.44         9\n",
            "    Class 26       0.00      0.00      0.00         5\n",
            "    Class 27       0.20      0.17      0.18         6\n",
            "    Class 28       0.00      0.00      0.00         8\n",
            "    Class 29       0.67      0.50      0.57         4\n",
            "    Class 30       0.00      0.00      0.00         6\n",
            "    Class 31       0.29      0.22      0.25         9\n",
            "    Class 32       0.00      0.00      0.00         8\n",
            "    Class 33       0.00      0.00      0.00         5\n",
            "    Class 34       0.43      0.43      0.43         7\n",
            "    Class 35       0.33      0.43      0.38         7\n",
            "\n",
            "    accuracy                           0.37       294\n",
            "   macro avg       0.36      0.35      0.34       294\n",
            "weighted avg       0.37      0.37      0.35       294\n",
            "\n"
          ]
        },
        {
          "output_type": "stream",
          "name": "stderr",
          "text": [
            "/usr/local/lib/python3.10/dist-packages/sklearn/metrics/_classification.py:1344: UndefinedMetricWarning: Precision and F-score are ill-defined and being set to 0.0 in labels with no predicted samples. Use `zero_division` parameter to control this behavior.\n",
            "  _warn_prf(average, modifier, msg_start, len(result))\n",
            "/usr/local/lib/python3.10/dist-packages/sklearn/metrics/_classification.py:1344: UndefinedMetricWarning: Precision and F-score are ill-defined and being set to 0.0 in labels with no predicted samples. Use `zero_division` parameter to control this behavior.\n",
            "  _warn_prf(average, modifier, msg_start, len(result))\n",
            "/usr/local/lib/python3.10/dist-packages/sklearn/metrics/_classification.py:1344: UndefinedMetricWarning: Precision and F-score are ill-defined and being set to 0.0 in labels with no predicted samples. Use `zero_division` parameter to control this behavior.\n",
            "  _warn_prf(average, modifier, msg_start, len(result))\n"
          ]
        }
      ]
    },
    {
      "cell_type": "markdown",
      "source": [
        "### random forest"
      ],
      "metadata": {
        "id": "pEYouzn6Jiwr"
      }
    },
    {
      "cell_type": "code",
      "source": [
        "import pydot\n",
        "import numpy as np\n",
        "import pandas as pd\n",
        "import scipy.stats as stats\n",
        "import matplotlib.pyplot as plt\n",
        "from pprint import pprint\n",
        "from sklearn import metrics\n",
        "from openpyxl import load_workbook\n",
        "from sklearn.tree import export_graphviz\n",
        "from sklearn.ensemble import RandomForestClassifier\n",
        "from sklearn.model_selection import GridSearchCV\n",
        "from sklearn.model_selection import RandomizedSearchCV\n",
        "from sklearn.model_selection import KFold, cross_val_predict\n",
        "from sklearn.metrics import classification_report\n",
        "\n",
        "# Assuming you have loaded X_train_scaled, y_train, X_test_scaled, and y_test\n",
        "\n",
        "# Define the parameter grid for grid search\n",
        "param_grid = {\n",
        "    'n_estimators': [ 100],\n",
        "    'max_depth': [None],\n",
        "    'min_samples_split': [10],\n",
        "    'min_samples_leaf': [  4],\n",
        "    'bootstrap': [False]\n",
        "}\n",
        "\n",
        "\n",
        "\n",
        "# Create and fit the Random Forest model using GridSearchCV\n",
        "random_forest = RandomForestClassifier(random_state=42)\n",
        "grid_search = GridSearchCV(random_forest, param_grid, cv=10, n_jobs=-1)\n",
        "grid_search.fit(X_train_scaled, y_train)\n",
        "\n",
        "best_random_forest = grid_search.best_estimator_\n",
        "\n",
        "# Perform 10-fold cross-validation\n",
        "kf = KFold(n_splits=10, shuffle=True, random_state=42)\n",
        "y_test_pred_probs = cross_val_predict(best_random_forest, X_test_scaled, y_test, cv=kf, method='predict_proba')\n",
        "\n",
        "# ... (Rest of your code for calculating top-N accuracy scores and generating the classification report)\n",
        "N_values = [1, 2, 3, 4, 5]\n",
        "top_n_accuracies = []\n",
        "for N in N_values:\n",
        "    top_n_correct = 0\n",
        "    for true_label, pred_probs in zip(y_test, y_test_pred_probs):\n",
        "        top_n_indices = np.argsort(pred_probs)[::-1][:N]  # Indices of top-N classes\n",
        "        if true_label in top_n_indices:\n",
        "            top_n_correct += 1\n",
        "    top_n_accuracy = top_n_correct / len(y_test)\n",
        "    top_n_accuracies.append(top_n_accuracy)\n",
        "\n",
        "# Print the best hyperparameters found by GridSearchCV\n",
        "print(\"Best Hyperparameters:\")\n",
        "print(grid_search.best_params_)\n",
        "\n",
        "# Print top-N accuracy scores\n",
        "for N, accuracy in zip(N_values, top_n_accuracies):\n",
        "    print(f\"Top-{N} Accuracy Score: {accuracy:.4f}\")\n",
        "\n",
        "# Generate classification report\n",
        "target_names = [f'Class {i}' for i in range(36)]\n",
        "y_test_pred = np.argmax(y_test_pred_probs, axis=1)\n",
        "cr = classification_report(y_test, y_test_pred, target_names=target_names)\n",
        "# Print classification report\n",
        "print(\"Classification Report:\")\n",
        "print(cr)\n",
        "\n"
      ],
      "metadata": {
        "id": "V9PZvfOcTOWX",
        "colab": {
          "base_uri": "https://localhost:8080/"
        },
        "outputId": "d3291b9c-f2e5-4188-9ee2-cfb2890e4487"
      },
      "execution_count": null,
      "outputs": [
        {
          "output_type": "stream",
          "name": "stdout",
          "text": [
            "Best Hyperparameters:\n",
            "{'bootstrap': False, 'max_depth': None, 'min_samples_leaf': 4, 'min_samples_split': 10, 'n_estimators': 100}\n",
            "Top-1 Accuracy Score: 0.0612\n",
            "Top-2 Accuracy Score: 0.1020\n",
            "Top-3 Accuracy Score: 0.1361\n",
            "Top-4 Accuracy Score: 0.1429\n",
            "Top-5 Accuracy Score: 0.1735\n",
            "Classification Report:\n",
            "              precision    recall  f1-score   support\n",
            "\n",
            "     Class 0       0.00      0.00      0.00         8\n",
            "     Class 1       0.00      0.00      0.00         9\n",
            "     Class 2       0.00      0.00      0.00         9\n",
            "     Class 3       0.00      0.00      0.00        10\n",
            "     Class 4       0.00      0.00      0.00         9\n",
            "     Class 5       0.00      0.00      0.00         8\n",
            "     Class 6       0.00      0.00      0.00         9\n",
            "     Class 7       0.06      0.10      0.07        10\n",
            "     Class 8       0.00      0.00      0.00        10\n",
            "     Class 9       0.20      0.20      0.20        10\n",
            "    Class 10       0.00      0.00      0.00         7\n",
            "    Class 11       0.00      0.00      0.00         9\n",
            "    Class 12       0.22      0.25      0.24         8\n",
            "    Class 13       0.00      0.00      0.00         7\n",
            "    Class 14       0.29      0.22      0.25         9\n",
            "    Class 15       0.00      0.00      0.00         9\n",
            "    Class 16       0.15      0.25      0.19         8\n",
            "    Class 17       0.08      0.18      0.11        11\n",
            "    Class 18       0.00      0.00      0.00         7\n",
            "    Class 19       0.00      0.00      0.00         6\n",
            "    Class 20       0.00      0.00      0.00        10\n",
            "    Class 21       0.20      0.33      0.25         9\n",
            "    Class 22       0.20      0.22      0.21         9\n",
            "    Class 23       0.06      0.10      0.07        10\n",
            "    Class 24       0.08      0.11      0.10         9\n",
            "    Class 25       0.00      0.00      0.00         9\n",
            "    Class 26       0.00      0.00      0.00         5\n",
            "    Class 27       0.00      0.00      0.00         6\n",
            "    Class 28       0.00      0.00      0.00         8\n",
            "    Class 29       0.00      0.00      0.00         4\n",
            "    Class 30       0.00      0.00      0.00         6\n",
            "    Class 31       0.00      0.00      0.00         9\n",
            "    Class 32       0.00      0.00      0.00         8\n",
            "    Class 33       0.00      0.00      0.00         5\n",
            "    Class 34       0.00      0.00      0.00         7\n",
            "    Class 35       0.00      0.00      0.00         7\n",
            "\n",
            "    accuracy                           0.06       294\n",
            "   macro avg       0.04      0.05      0.05       294\n",
            "weighted avg       0.05      0.06      0.05       294\n",
            "\n"
          ]
        },
        {
          "output_type": "stream",
          "name": "stderr",
          "text": [
            "/usr/local/lib/python3.10/dist-packages/sklearn/metrics/_classification.py:1344: UndefinedMetricWarning: Precision and F-score are ill-defined and being set to 0.0 in labels with no predicted samples. Use `zero_division` parameter to control this behavior.\n",
            "  _warn_prf(average, modifier, msg_start, len(result))\n",
            "/usr/local/lib/python3.10/dist-packages/sklearn/metrics/_classification.py:1344: UndefinedMetricWarning: Precision and F-score are ill-defined and being set to 0.0 in labels with no predicted samples. Use `zero_division` parameter to control this behavior.\n",
            "  _warn_prf(average, modifier, msg_start, len(result))\n",
            "/usr/local/lib/python3.10/dist-packages/sklearn/metrics/_classification.py:1344: UndefinedMetricWarning: Precision and F-score are ill-defined and being set to 0.0 in labels with no predicted samples. Use `zero_division` parameter to control this behavior.\n",
            "  _warn_prf(average, modifier, msg_start, len(result))\n"
          ]
        }
      ]
    },
    {
      "cell_type": "markdown",
      "source": [
        "## graph"
      ],
      "metadata": {
        "id": "R9-82rXyTW8Y"
      }
    },
    {
      "cell_type": "code",
      "source": [
        "import pandas as pd\n",
        "import matplotlib.pyplot as plt\n",
        "from matplotlib.ticker import PercentFormatter\n",
        "\n",
        "# 创建一个包含您的数据的DataFrame\n",
        "data = {\n",
        "    'Metric': ['1', '2', '3', '4', '5'],\n",
        "    'SVM': [0.8571, 0.9354, 0.949, 0.966, 0.966],\n",
        "    'MLR': [0.8673, 0.932, 0.9626, 0.9728, 0.9762],\n",
        "    'Random Forest': [0.2789, 0.3946, 0.4558, 0.5, 0.5544]\n",
        "}\n",
        "\n",
        "df = pd.DataFrame(data)\n",
        "\n",
        "# 定义不同的标记形状\n",
        "marker_shapes = ['o', 's', 'D']\n",
        "\n",
        "# 绘制图表\n",
        "plt.figure(figsize=(10, 6))\n",
        "\n",
        "# 绘制每个模型的不同准确率得分\n",
        "for col in df.columns[1:]:\n",
        "    plt.plot(df['Metric'], df[col], marker='o', label=col)\n",
        "\n",
        "plt.title('Accuracy Scores for Different Models')\n",
        "plt.xlabel('number of guesses')\n",
        "plt.ylabel('Accuracy Score')\n",
        "plt.ylim(0, 1)  # 设置y轴范围\n",
        "plt.legend()\n",
        "plt.grid(True)\n",
        "# plt.xticks(rotation=45)\n",
        "\n",
        "# 添加百分比格式化器\n",
        "plt.gca().yaxis.set_major_formatter(PercentFormatter(xmax=1, decimals=1))\n",
        "\n",
        "plt.tight_layout()\n",
        "\n",
        "plt.show()\n"
      ],
      "metadata": {
        "id": "jiHO42P1U0UO"
      },
      "execution_count": null,
      "outputs": []
    },
    {
      "cell_type": "code",
      "source": [
        "import pandas as pd\n",
        "import matplotlib.pyplot as plt\n",
        "from matplotlib.ticker import PercentFormatter\n",
        "\n",
        "# 创建一个包含您的数据的DataFrame\n",
        "data = {\n",
        "    'Metric': ['1', '2', '3', '4', '5'],\n",
        "    'SVM': [0.8571, 0.9354, 0.949, 0.966, 0.966],\n",
        "    'MLR': [0.8673, 0.932, 0.9626, 0.9728, 0.9762],\n",
        "    'Random Forest': [0.2789, 0.3946, 0.4558, 0.5, 0.5544]\n",
        "}\n",
        "\n",
        "df = pd.DataFrame(data)\n",
        "\n",
        "# 定义不同的标记形状\n",
        "marker_shapes = ['o', 's', 'D']\n",
        "\n",
        "# 绘制图表\n",
        "plt.figure(figsize=(10, 6))\n",
        "\n",
        "# 绘制每个模型的不同准确率得分\n",
        "for i, col in enumerate(df.columns[1:], start=1):\n",
        "    plt.plot(df['Metric'], df[col], marker=marker_shapes[i-1], label=col)\n",
        "\n",
        "plt.title('Accuracy Scores for Different Models')\n",
        "plt.xlabel('number of guesses')\n",
        "plt.ylabel('Accuracy Score')\n",
        "plt.ylim(0, 1)  # 设置y轴范围\n",
        "plt.legend()\n",
        "plt.grid(True)\n",
        "\n",
        "# 添加百分比格式化器\n",
        "plt.gca().yaxis.set_major_formatter(PercentFormatter(xmax=1, decimals=1))\n",
        "\n",
        "plt.tight_layout()\n",
        "\n",
        "plt.show()\n"
      ],
      "metadata": {
        "id": "4MFgPkJ0Wp8u"
      },
      "execution_count": null,
      "outputs": []
    },
    {
      "cell_type": "code",
      "source": [
        "data_shift = {\n",
        "    'Metric': ['1', '2', '3', '4', '5'],\n",
        "    'SVM': [0.8605, 0.9388, 0.9524,0.9626, 0.9660],\n",
        "    'MLR': [0.8605, 0.9320,  0.9592, 0.9694, 0.9796],\n",
        "    'Random Forest': [0.2789, 0.3946, 0.4558, 0.5, 0.5544]\n",
        "    }\n",
        "accuracy_datashift = {\n",
        "    'SVM':[0.86],\n",
        "    'MLR':[0.86],\n",
        "    'Random Forest':[0.28]\n",
        "}\n"
      ],
      "metadata": {
        "id": "6wLfLFXae9Ay"
      },
      "execution_count": null,
      "outputs": []
    }
  ],
  "metadata": {
    "colab": {
      "provenance": [],
      "machine_shape": "hm",
      "gpuType": "T4",
      "authorship_tag": "ABX9TyP3c1MXDgGYtKbsKmWp57EH",
      "include_colab_link": true
    },
    "kernelspec": {
      "display_name": "Python 3",
      "name": "python3"
    },
    "language_info": {
      "name": "python"
    },
    "accelerator": "GPU"
  },
  "nbformat": 4,
  "nbformat_minor": 0
}